{
 "cells": [
  {
   "cell_type": "code",
   "execution_count": 1,
   "metadata": {},
   "outputs": [],
   "source": [
    "from datetime import datetime\n",
    "from elasticsearch import Elasticsearch\n",
    "import glob\n",
    "import re\n",
    "import json\n",
    "import os.path\n",
    "from urllib.parse import urlparse"
   ]
  },
  {
   "cell_type": "code",
   "execution_count": 2,
   "metadata": {},
   "outputs": [],
   "source": [
    "inlinks = {}\n",
    "file_path = \"inlinks.json\"\n",
    "with open(file_path, \"r\") as f:\n",
    "    inlinks = json.load(f)\n"
   ]
  },
  {
   "cell_type": "code",
   "execution_count": 3,
   "metadata": {},
   "outputs": [],
   "source": [
    "# file_path = \"inlinks_priya.json\"\n",
    "# with open(file_path, \"r\") as f:\n",
    "#     data = json.load(f)\n",
    "#     for link in data:\n",
    "#         if link in inlinks:\n",
    "#             inlinks[link] = list(set( inlinks[link] + data[link]))\n",
    "#         else:\n",
    "#             inlinks[link] = data[link]\n"
   ]
  },
  {
   "cell_type": "code",
   "execution_count": 4,
   "metadata": {},
   "outputs": [
    {
     "data": {
      "text/plain": [
       "40705"
      ]
     },
     "execution_count": 4,
     "metadata": {},
     "output_type": "execute_result"
    }
   ],
   "source": [
    "len(inlinks)"
   ]
  },
  {
   "cell_type": "code",
   "execution_count": 5,
   "metadata": {},
   "outputs": [],
   "source": [
    "mapping = {\n",
    "    \"settings\" : {\n",
    "        \"index\": {\n",
    "          \"store\": {\n",
    "            \"type\": \"fs\"\n",
    "          },\n",
    "          \"number_of_shards\": 2,\n",
    "          \"number_of_replicas\": 1\n",
    "        },\n",
    "        \"analysis\": {\n",
    "          \"analyzer\": {\n",
    "            \"my_english\": { \n",
    "              \"type\": \"english\",\n",
    "              \"stopwords_path\": \"stoplist.txt\" \n",
    "            }\n",
    "          }\n",
    "        }\n",
    "    },\n",
    "    \"mappings\": {\n",
    "        \"doc\": { \n",
    "          \"properties\": {\n",
    "            \"DOCNO\": { \"type\" : \"text\"  }, \n",
    "            \"TITLE\": { \"type\" : \"text\"},\n",
    "            \"TEXT\": { \n",
    "                \"type\": \"text\",\n",
    "                \"store\": True,\n",
    "                \"fielddata\": True,\n",
    "                \"term_vector\": \"with_positions_offsets_payloads\",\n",
    "                \"analyzer\": \"my_english\"\n",
    "            }, \n",
    "            \"HTML\": { \"type\": \"text\"  },\n",
    "            \"INLINK\" : { \"type\": \"text\"  },\n",
    "            \"OUTLINK\": { \"type\": \"text\"  },\n",
    "            \"AUTHOR\": {\"type\" : \"text\"},\n",
    "            \"DEPTH\" : {\"type\":\"integer\"}\n",
    "\n",
    "          }\n",
    "        }\n",
    "    }\n",
    "}"
   ]
  },
  {
   "cell_type": "code",
   "execution_count": 6,
   "metadata": {},
   "outputs": [
    {
     "data": {
      "text/plain": [
       "{'acknowledged': True, 'shards_acknowledged': True}"
      ]
     },
     "execution_count": 6,
     "metadata": {},
     "output_type": "execute_result"
    }
   ],
   "source": [
    "es = Elasticsearch()\n",
    "es.indices.create('crawled_data_final_new', body=mapping, ignore = 400)"
   ]
  },
  {
   "cell_type": "code",
   "execution_count": 7,
   "metadata": {},
   "outputs": [],
   "source": [
    "import json"
   ]
  },
  {
   "cell_type": "code",
   "execution_count": 8,
   "metadata": {},
   "outputs": [],
   "source": [
    "pro_path = \"files/\""
   ]
  },
  {
   "cell_type": "code",
   "execution_count": 9,
   "metadata": {},
   "outputs": [],
   "source": [
    "c = 0\n",
    "for i in range(1, 21001):\n",
    "    file_path = pro_path + str(i) + \".json\"\n",
    "    with open(file_path, \"r\") as f:\n",
    "        data = json.load(f)\n",
    "        data[\"INLINK\"] = []\n",
    "        data[\"AUTHOR\"] = [\"Parth\"]\n",
    "\n",
    "        \n",
    "        if data[\"DOCNO\"] in inlinks:\n",
    "            data[\"INLINK\"] += inlinks[data[\"DOCNO\"]]\n",
    "            \n",
    "        \n",
    "        res = es.get(index = \"crawled_data_final_new\", \n",
    "             doc_type = \"doc\",\n",
    "             id = data['DOCNO'],\n",
    "             ignore = 404)\n",
    "        \n",
    "        \n",
    "        if res[\"found\"] == True:\n",
    "            if(res[\"_source\"][\"TEXT\"] == \" \"):\n",
    "                data[\"TEXT\"] = \" \"\n",
    "            \n",
    "            data[\"INLINK\"] = list(set( res[\"_source\"][\"INLINK\"] + data[\"INLINK\"]))\n",
    "            data[\"OUTLINK\"] = list(set( res[\"_source\"][\"OUTLINK\"] + data[\"OUTLINK\"]))\n",
    "            data[\"AUTHOR\"] =  list(set( res[\"_source\"][\"AUTHOR\"] + data[\"AUTHOR\"]))\n",
    "        \n",
    "            \n",
    "        res = es.index(index=\"crawled_data_final_new\", doc_type='doc', id=data['DOCNO'], body=data)\n",
    "\n",
    "\n",
    "#         break\n",
    "# #         break\n",
    "# #         parsedUrl = urlparse(data[\"DOCNO\"].lower())\n"
   ]
  }
 ],
 "metadata": {
  "kernelspec": {
   "display_name": "Python 3",
   "language": "python",
   "name": "python3"
  },
  "language_info": {
   "codemirror_mode": {
    "name": "ipython",
    "version": 3
   },
   "file_extension": ".py",
   "mimetype": "text/x-python",
   "name": "python",
   "nbconvert_exporter": "python",
   "pygments_lexer": "ipython3",
   "version": "3.5.2"
  }
 },
 "nbformat": 4,
 "nbformat_minor": 2
}
