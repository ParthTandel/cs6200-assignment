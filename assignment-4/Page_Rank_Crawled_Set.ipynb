{
 "cells": [
  {
   "cell_type": "code",
   "execution_count": 1,
   "metadata": {},
   "outputs": [],
   "source": [
    "from datetime import datetime\n",
    "from elasticsearch import Elasticsearch\n",
    "import numpy as np\n",
    "import random\n",
    "import time\n",
    "from urllib.parse import urlparse\n",
    "from scipy import sparse\n",
    "import math\n",
    "import time\n",
    "from math import log2,pow"
   ]
  },
  {
   "cell_type": "code",
   "execution_count": 2,
   "metadata": {},
   "outputs": [],
   "source": [
    "import elasticsearch\n",
    "import elasticsearch_dsl"
   ]
  },
  {
   "cell_type": "code",
   "execution_count": 3,
   "metadata": {},
   "outputs": [],
   "source": [
    "es = Elasticsearch()"
   ]
  },
  {
   "cell_type": "code",
   "execution_count": 4,
   "metadata": {},
   "outputs": [],
   "source": [
    "crawled = {}\n",
    "results = elasticsearch.helpers.scan(es,\n",
    "    index=\"crawled_data_final\",\n",
    "    doc_type=\"doc\",\n",
    "    preserve_order=True,\n",
    "    query={\"query\": {\"match_all\": {}}},\n",
    ")\n",
    "\n",
    "# for item in results:\n",
    "#     crawled[item['_id']] = True"
   ]
  },
  {
   "cell_type": "code",
   "execution_count": 5,
   "metadata": {},
   "outputs": [],
   "source": [
    "for item in results:\n",
    "    crawled[item['_id']] = item['_source']"
   ]
  },
  {
   "cell_type": "code",
   "execution_count": 6,
   "metadata": {},
   "outputs": [
    {
     "data": {
      "text/plain": [
       "39955"
      ]
     },
     "execution_count": 6,
     "metadata": {},
     "output_type": "execute_result"
    }
   ],
   "source": [
    "len(crawled)"
   ]
  },
  {
   "cell_type": "code",
   "execution_count": 7,
   "metadata": {},
   "outputs": [
    {
     "name": "stdout",
     "output_type": "stream",
     "text": [
      "0.37928152084350586\n"
     ]
    }
   ],
   "source": [
    "urls = []\n",
    "st = time.time()\n",
    "for link in crawled:\n",
    "    urls.append(link)\n",
    "    for url in crawled[link]['INLINK']:\n",
    "        urls.append(url)\n",
    "    for url in crawled[link]['OUTLINK']:\n",
    "        urls.append(url)\n",
    "\n",
    "#     urls.extend(crawled[link]['INLINK'])\n",
    "#     urls.extend(crawled[link]['OUTLINK'])\n",
    "print(time.time() - st)\n",
    "\n",
    "    "
   ]
  },
  {
   "cell_type": "code",
   "execution_count": 8,
   "metadata": {},
   "outputs": [],
   "source": [
    "urls = list(set(urls))"
   ]
  },
  {
   "cell_type": "code",
   "execution_count": 11,
   "metadata": {
    "scrolled": true
   },
   "outputs": [
    {
     "name": "stdout",
     "output_type": "stream",
     "text": [
      "0 1000 2000 3000 4000 5000 6000 7000 8000 9000 10000 11000 12000 13000 14000 15000 16000 17000 18000 19000 20000 21000 22000 23000 24000 25000 26000 27000 28000 29000 30000 31000 32000 33000 34000 35000 36000 37000 38000 39000 "
     ]
    }
   ],
   "source": [
    "i = 0\n",
    "graph = {}\n",
    "\n",
    "_set = []\n",
    "for link in crawled:\n",
    "    if link not in graph:\n",
    "        graph[link] = {\n",
    "            \"inlinks\" : [],\n",
    "            \"outlinks\": []\n",
    "        }\n",
    "\n",
    "#     if link not in crawled:\n",
    "#         continue\n",
    "        \n",
    "    outlink = []\n",
    "    \n",
    "    for ol in crawled[link][\"OUTLINK\"]:\n",
    "        if ol in crawled:\n",
    "            outlink.append(ol)\n",
    "        else:\n",
    "            o = urlparse(ol)\n",
    "            outlink.append(o.scheme + \"://\" + o.netloc)\n",
    "    \n",
    "#     outlink = list(set(outlink))\n",
    "#     _set.append(link)\n",
    "#     _set.extend(outlink)\n",
    "\n",
    "    graph[link][\"outlinks\"] = list(set(outlink))\n",
    "    \n",
    "#     print(len(outlink), len(graph[link][\"outlinks\"]), end=\", \")\n",
    "    \n",
    "    for in_l in graph[link][\"outlinks\"]:\n",
    "        if in_l not in graph:\n",
    "            graph[in_l] = {\n",
    "                \"inlinks\" : [],\n",
    "                \"outlinks\": []\n",
    "            }           \n",
    "        graph[in_l][\"inlinks\"].append(link)\n",
    "#         _set.append(in_l)\n",
    "\n",
    "    if i % 1000 == 0:\n",
    "        print(i,end =\" \")\n",
    "    i = i + 1\n",
    "            \n",
    "    \n",
    "        \n",
    "        "
   ]
  },
  {
   "cell_type": "code",
   "execution_count": 12,
   "metadata": {},
   "outputs": [
    {
     "data": {
      "text/plain": [
       "53617"
      ]
     },
     "execution_count": 12,
     "metadata": {},
     "output_type": "execute_result"
    }
   ],
   "source": [
    "len(graph)"
   ]
  },
  {
   "cell_type": "code",
   "execution_count": 22,
   "metadata": {},
   "outputs": [],
   "source": [
    "for node in graph:\n",
    "    graph[node][\"inlinks\"] = list(set(graph[node][\"inlinks\"]))\n",
    "    graph[node][\"outlinks\"] = list(set(graph[node][\"outlinks\"]))"
   ]
  },
  {
   "cell_type": "code",
   "execution_count": 23,
   "metadata": {},
   "outputs": [],
   "source": [
    "pr = {}"
   ]
  },
  {
   "cell_type": "code",
   "execution_count": 24,
   "metadata": {},
   "outputs": [],
   "source": [
    "t = len(graph)\n",
    "for link in graph:\n",
    "    pr[link] = 1 / t"
   ]
  },
  {
   "cell_type": "code",
   "execution_count": 25,
   "metadata": {},
   "outputs": [],
   "source": [
    "sink_nodes = {}"
   ]
  },
  {
   "cell_type": "code",
   "execution_count": 26,
   "metadata": {},
   "outputs": [],
   "source": [
    "for link in graph:\n",
    "    if len(graph[link][\"outlinks\"]) <= 0:\n",
    "        sink_nodes[link] = True"
   ]
  },
  {
   "cell_type": "code",
   "execution_count": 27,
   "metadata": {},
   "outputs": [
    {
     "data": {
      "text/plain": [
       "35580"
      ]
     },
     "execution_count": 27,
     "metadata": {},
     "output_type": "execute_result"
    }
   ],
   "source": [
    "t - len(sink_nodes)"
   ]
  },
  {
   "cell_type": "code",
   "execution_count": 28,
   "metadata": {},
   "outputs": [],
   "source": [
    "def perpex(pr):\n",
    "    ent = 0\n",
    "    for link in pr:\n",
    "        ent = ent + (pr[link] * log2( 1 / pr[link]))\n",
    "    return pow(2,ent)\n",
    "    "
   ]
  },
  {
   "cell_type": "code",
   "execution_count": 29,
   "metadata": {},
   "outputs": [],
   "source": [
    "cond = True\n",
    "d = 0.85\n",
    "plex = []"
   ]
  },
  {
   "cell_type": "code",
   "execution_count": 30,
   "metadata": {
    "scrolled": true
   },
   "outputs": [
    {
     "name": "stdout",
     "output_type": "stream",
     "text": [
      "1 53617.00000080611\n",
      "2 23536.067356317944\n",
      "3 24946.334309225764\n",
      "4 23564.448990613466\n",
      "5 23995.632387892067\n",
      "6 23555.865528978793\n",
      "7 23825.379014479928\n",
      "8 23561.633985563803\n",
      "9 23729.38432227564\n",
      "10 23550.642290031967\n",
      "11 23658.515038068803\n",
      "12 23534.07500433427\n",
      "13 23605.316252821434\n",
      "14 23518.247299521856\n",
      "15 23566.105108218755\n",
      "16 23505.162185331403\n",
      "17 23537.70434535216\n",
      "18 23495.050392967\n",
      "19 23517.369163422438\n",
      "20 23487.51903576875\n",
      "21 23502.917839751168\n",
      "22 23482.025605984258\n",
      "23 23492.69697280004\n",
      "24 23478.069007679416\n",
      "25 23485.488367017617\n",
      "26 23475.241656995375\n",
      "27 23480.41232375946\n",
      "28 23473.230899222217\n",
      "29 23476.840899499628\n",
      "30 23471.805004833463\n",
      "31 23474.328865170137\n",
      "32 23470.795552762927\n",
      "33 23472.561937753122\n",
      "34 23470.08153920389\n",
      "35 23471.318830333614\n",
      "36 23469.57667093091\n",
      "37 23470.443942667443\n",
      "38 23469.219686411132\n",
      "39 23469.827938058665\n",
      "40 23468.967210819246\n",
      "41 23469.394004424896\n",
      "42 23468.788581748027\n",
      "43 23469.088173847595\n",
      "44 23468.662140896715\n",
      "45 23468.872518157288\n",
      "46 23468.572594214176\n",
      "47 23468.720371112584\n"
     ]
    }
   ],
   "source": [
    "x = 1\n",
    "perval = perpex(pr)\n",
    "print(x, perval)\n",
    "\n",
    "\n",
    "while cond:\n",
    "    new_pr = {}\n",
    "    sinkpr = 0 \n",
    "    for link in sink_nodes:\n",
    "        sinkpr = sinkpr + pr[link]\n",
    "        \n",
    "    for link in pr:\n",
    "        new_pr[link] = (1 - d) / t\n",
    "        new_pr[link] = new_pr[link] + (d * (sinkpr / t))\n",
    "        \n",
    "        for inlinkto in graph[link]['inlinks']:\n",
    "            new_pr[link] = new_pr[link] + (d * pr[inlinkto] / len(graph[inlinkto][\"outlinks\"]))\n",
    "\n",
    "    for page in pr:\n",
    "        pr[page] = new_pr[page]\n",
    "        \n",
    "    perval = perpex(pr)\n",
    "    x = x + 1\n",
    "    print(x, perval)\n",
    "    plex.append(perval)\n",
    "    \n",
    "    if(len(plex) == 4):\n",
    "        if( int(plex[0]) % 10 == int(plex[1]) % 10 and \n",
    "            int(plex[1]) % 10 == int(plex[2]) % 10 and\n",
    "            int(plex[2]) % 10 == int(plex[3]) % 10):\n",
    "            cond = False\n",
    "        else:\n",
    "            del plex[0]\n",
    "    \n",
    "    \n",
    "    if(x % 100 == 0):\n",
    "        print(x)\n",
    "        print(time.time() - st)\n",
    "        st = time.time()\n",
    "\n",
    "\n",
    "#     break\n"
   ]
  },
  {
   "cell_type": "code",
   "execution_count": 31,
   "metadata": {},
   "outputs": [
    {
     "data": {
      "text/plain": [
       "[('https://en.wikipedia.org', 0.01017879659465084),\n",
       " ('http://en.wikipedia.org', 0.009076257710721115),\n",
       " ('http://en.m.wikipedia.org', 0.007747637710965084),\n",
       " ('https://commons.wikimedia.org', 0.00332002897171911),\n",
       " ('http://www.facebook.com', 0.002472985522425136),\n",
       " ('http://twitter.com/SaratogaChamber', 0.0021464684551627186),\n",
       " ('http://www.youtube.com/user/SaratogaTourism', 0.0018941840587644657),\n",
       " ('https://commons.wikimedia.org/wiki/Category:George_Washington_Memorial_Parkway_(HAER)',\n",
       "  0.00179635254559802),\n",
       " ('https://www.instagram.com', 0.0017593659520925673),\n",
       " ('https://www.google.com', 0.0017508551265426459),\n",
       " ('https://commons.wikimedia.org/wiki/Category:George_Washington_Memorial_Parkway',\n",
       "  0.0017459615070151923),\n",
       " ('https://commons.wikimedia.org/wiki/Category:Printers_marks_and_columns_in_the_Thomas_Jefferson_Building',\n",
       "  0.001696806821548303),\n",
       " ('http://twitter.com/hashtag/ilovesaratoga', 0.0016573605105723883),\n",
       " ('https://www.pinterest.com/saratogatourism/', 0.001641760163072728),\n",
       " ('https://www.saratoga.org/tourism/', 0.001641760163072728),\n",
       " ('https://www.facebook.com', 0.0014883559040472082),\n",
       " ('https://commons.wikimedia.org/wiki/Category:Native_Americans_from_Southeastern_Idaho',\n",
       "  0.001338543512906849),\n",
       " ('https://web.archive.org', 0.001268370559600368),\n",
       " ('http://www.saratoga.org/', 0.0012578814640638025),\n",
       " ('http://www.leadershipsaratoga.org/', 0.001255179762694525),\n",
       " ('http://commons.m.wikimedia.org', 0.0012459239451945504),\n",
       " ('http://saratoganygenweb.com/index.html', 0.0012074649199643672),\n",
       " ('https://www.saratoga.org/foundation/about-healthy-saratoga/',\n",
       "  0.0011938993829611146),\n",
       " ('http://twitter.com/hashtag/healthysaratoga', 0.0011522657893816351),\n",
       " ('http://twitter.com/hashtag/shopsaratoga', 0.001148329487933487),\n",
       " ('https://fr.wikipedia.org', 0.0011326341047780814),\n",
       " ('http://tools.wmflabs.org/geohack/geohack.php', 0.001105146688582484),\n",
       " ('https://commons.wikimedia.org/wiki/Category:George_Washington_Bridge',\n",
       "  0.0010426182068834038),\n",
       " ('https://commons.wikimedia.org/wiki/Category:History_of_Native_Americans_in_the_United_States',\n",
       "  0.0010096507360619717),\n",
       " ('https://www.saratoga.org', 0.0009786834469536854),\n",
       " ('https://en.wikisource.org', 0.0009781779342769843),\n",
       " ('https://twitter.com', 0.000948704668940624),\n",
       " ('https://chamber.saratoga.org', 0.0009349680078557652),\n",
       " ('https://www.saratoga.org/news-updates/', 0.0009323823159196853),\n",
       " ('https://www.saratoga.org/board-of-directors/', 0.0009323823159196853),\n",
       " ('https://chamber.saratoga.org/contact', 0.0009323823159196853),\n",
       " ('https://chamber.saratoga.org/member/newmemberapp', 0.0009323823159196853),\n",
       " ('https://chamber.saratoga.org/groups/GroupRoster/2017-ambassadors-155',\n",
       "  0.0009323823159196853),\n",
       " ('https://chamber.saratoga.org/events/calendarcatgid/6',\n",
       "  0.0009323823159196853),\n",
       " ('https://chamber.saratoga.org/list', 0.0009323823159196853),\n",
       " ('https://www.saratoga.org/saratoga-tv/', 0.0009323823159196853),\n",
       " ('https://www.saratoga.org/about-us/', 0.0009323823159196853),\n",
       " ('https://www.saratoga.org/privacy-policy/', 0.0009323823159196853),\n",
       " ('https://www.saratoga.org/government/', 0.0009323823159196853),\n",
       " ('http://saratoga.myjobzone.net/', 0.0009323823159196853),\n",
       " ('https://www.saratoga.org/foundation/', 0.0009323823159196853),\n",
       " ('https://www.saratoga.org/benefits/', 0.0009323823159196853),\n",
       " ('https://www.saratoga.org/battle-of-saratoga/', 0.0009323823159196853),\n",
       " ('https://www.saratoga.org/education/', 0.0009323823159196853),\n",
       " ('https://www.saratoga.org/history/', 0.0009323823159196853),\n",
       " ('https://chamber.saratoga.org/events', 0.0009323823159196853),\n",
       " ('https://www.saratoga.org/health-insurance/', 0.0009323823159196853),\n",
       " ('https://www.saratoga.org/networking-events/', 0.0009323823159196853),\n",
       " ('https://www.saratoga.org/staff/', 0.0009323823159196853),\n",
       " ('http://www.linkedin.com', 0.0008742230624394342),\n",
       " ('http://www.istockphoto.com/videos/george-washington-bridge',\n",
       "  0.0008620203400241303),\n",
       " ('https://t.co', 0.000850902912920112),\n",
       " ('http://www.twitter.com', 0.0008357699330408044),\n",
       " ('http://saratoganygenweb.com/sarcocem.htm', 0.0007794786149595308),\n",
       " ('https://www.nyra.com', 0.0007290095293119196)]"
      ]
     },
     "execution_count": 31,
     "metadata": {},
     "output_type": "execute_result"
    }
   ],
   "source": [
    "sorted(pr.items(), key=lambda kv: kv[1])[::-1][0:60]"
   ]
  },
  {
   "cell_type": "code",
   "execution_count": null,
   "metadata": {},
   "outputs": [],
   "source": [
    "#  in crawled[\"'https://en.wikipedia.org/wiki/Parliament_of_the_Bahamas'\"]"
   ]
  },
  {
   "cell_type": "code",
   "execution_count": null,
   "metadata": {},
   "outputs": [],
   "source": [
    "# graph[\"http://www.bahamas.gov.bs/wps/portal/public/The%20Government/Legislative/About%20the%20Parliament/!ut/p/b1/vZLLbqMwGEafpQ-QYsx9SYAYk2ACGAJsEJBwCbkTQsjTTzoaaWY0aruZ1l5ZOvan7_xmEiZikkN2a6rs2hwP2e7tnIgpB5CtqrxsIwGIAAfLhbqUTOiwwhOInwB4Z6ngw_tzyKyYKIrhXT_iYWaEaZ2FW3BPsmq070Ow2lZD150auAwq-1r5ZZnzzqLIL5xgSW13yljSa7YKO3xTpLMwtqjGmjERvEVF3I0K6aHXVpnSr7gUylFh8mtSHok2V-wSOcjPD5ekpOJZ0oGz6kwze2zqBHYSW-nYOG01QB4WbcKpwlIudpqe1lnsdqedNevmuzSc3jWXa8HLLwfvleTBZw5XTPIh8vbCT-AjzZ-JJuZxv2HiJyb9gdEQAMwC1fNZF8iEZSgTAT71t-MJP9qH9\"]"
   ]
  },
  {
   "cell_type": "code",
   "execution_count": null,
   "metadata": {},
   "outputs": [],
   "source": [
    "# crawled[\"http://www.bahamas.gov.bs/wps/portal/public/The%20Government/Legislative/About%20the%20Parliament/!ut/p/b1/vZLLbqMwGEafpQ-QYsx9SYAYk2ACGAJsEJBwCbkTQsjTTzoaaWY0aruZ1l5ZOvan7_xmEiZikkN2a6rs2hwP2e7tnIgpB5CtqrxsIwGIAAfLhbqUTOiwwhOInwB4Z6ngw_tzyKyYKIrhXT_iYWaEaZ2FW3BPsmq070Ow2lZD150auAwq-1r5ZZnzzqLIL5xgSW13yljSa7YKO3xTpLMwtqjGmjERvEVF3I0K6aHXVpnSr7gUylFh8mtSHok2V-wSOcjPD5ekpOJZ0oGz6kwze2zqBHYSW-nYOG01QB4WbcKpwlIudpqe1lnsdqedNevmuzSc3jWXa8HLLwfvleTBZw5XTPIh8vbCT-AjzZ-JJuZxv2HiJyb9gdEQAMwC1fNZF8iEZSgTAT71t-MJP9qH9\"]"
   ]
  }
 ],
 "metadata": {
  "kernelspec": {
   "display_name": "Python 3",
   "language": "python",
   "name": "python3"
  },
  "language_info": {
   "codemirror_mode": {
    "name": "ipython",
    "version": 3
   },
   "file_extension": ".py",
   "mimetype": "text/x-python",
   "name": "python",
   "nbconvert_exporter": "python",
   "pygments_lexer": "ipython3",
   "version": "3.5.2"
  }
 },
 "nbformat": 4,
 "nbformat_minor": 2
}
