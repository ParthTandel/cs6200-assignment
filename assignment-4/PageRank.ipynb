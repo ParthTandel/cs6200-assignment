{
 "cells": [
  {
   "cell_type": "code",
   "execution_count": 1,
   "metadata": {},
   "outputs": [],
   "source": [
    "import time\n",
    "from math import log2,pow\n",
    "import queue"
   ]
  },
  {
   "cell_type": "code",
   "execution_count": 2,
   "metadata": {},
   "outputs": [],
   "source": [
    "plex = []"
   ]
  },
  {
   "cell_type": "code",
   "execution_count": 3,
   "metadata": {},
   "outputs": [],
   "source": [
    "def perpex(pr):\n",
    "    ent = 0\n",
    "    for link in pr:\n",
    "        ent = ent + (pr[link] * log2( 1 / pr[link]))\n",
    "    return pow(2,ent)\n",
    "    "
   ]
  },
  {
   "cell_type": "code",
   "execution_count": 4,
   "metadata": {},
   "outputs": [],
   "source": [
    "with open(\"wt2g_inlinks.txt\",\"r\") as file:\n",
    "    text = file.read()"
   ]
  },
  {
   "cell_type": "code",
   "execution_count": 5,
   "metadata": {},
   "outputs": [],
   "source": [
    "graph_dict_inlinks = {}\n",
    "graph_dict_outlinks = {}\n",
    "pr = {}\n",
    "sink = {}"
   ]
  },
  {
   "cell_type": "code",
   "execution_count": 6,
   "metadata": {},
   "outputs": [],
   "source": [
    "total_entry = text.split(\"\\n\")[:-1] \n",
    "t = len(total_entry)\n",
    "\n",
    "for entry in total_entry:\n",
    "    entry = entry.split(\" \")\n",
    "    graph_dict_inlinks[entry[0]] = entry[1:-1]\n",
    "    \n",
    "    for link in entry[1:-1]:\n",
    "        if link not in graph_dict_outlinks:\n",
    "            graph_dict_outlinks[link] = []\n",
    "        graph_dict_outlinks[link].append(entry[0])\n",
    "        \n",
    "    pr[entry[0]] = 1 / t"
   ]
  },
  {
   "cell_type": "code",
   "execution_count": 7,
   "metadata": {},
   "outputs": [],
   "source": [
    "for link in graph_dict_inlinks:\n",
    "    if link not in graph_dict_outlinks:\n",
    "        sink[link] = True\n",
    "        graph_dict_outlinks[link] = []"
   ]
  },
  {
   "cell_type": "code",
   "execution_count": 8,
   "metadata": {},
   "outputs": [],
   "source": [
    "d = 0.85"
   ]
  },
  {
   "cell_type": "code",
   "execution_count": 9,
   "metadata": {},
   "outputs": [],
   "source": [
    "cond = True"
   ]
  },
  {
   "cell_type": "code",
   "execution_count": 10,
   "metadata": {
    "scrolled": true
   },
   "outputs": [
    {
     "name": "stdout",
     "output_type": "stream",
     "text": [
      "1 183810.9999981843\n",
      "2 79669.6872251883\n",
      "3 86267.57460715676\n",
      "4 72260.29274030903\n",
      "5 75132.35352246845\n",
      "6 68932.55675971461\n",
      "7 71197.78782484007\n",
      "8 67782.49554750184\n",
      "9 69379.53482791355\n",
      "10 67383.66665814604\n",
      "11 68477.76058578819\n",
      "12 67207.14447326322\n",
      "13 68004.11320845818\n",
      "14 67138.91532726398\n",
      "15 67708.21906347615\n",
      "16 67131.62400762505\n",
      "17 67524.4367880914\n",
      "18 67132.0712306163\n",
      "19 67413.67011413956\n",
      "20 67138.80998841905\n",
      "21 67339.78550517111\n",
      "22 67149.74519594054\n",
      "23 67290.7907708458\n",
      "24 67158.72227667834\n",
      "25 67259.18588760555\n",
      "26 67165.98958204313\n",
      "27 67237.74038745138\n",
      "28 67172.28070990693\n",
      "29 67223.08761300845\n",
      "30 67177.10457574033\n",
      "31 67213.27963416529\n",
      "32 67180.71134068887\n",
      "33 67206.55776523644\n",
      "34 67183.5093232891\n",
      "35 67201.89329489612\n",
      "36 67185.59259052998\n",
      "37 67198.7022873018\n",
      "38 67187.11959682262\n",
      "39 67196.48591443012\n",
      "40 67188.25853451142\n",
      "41 67194.93957320231\n",
      "42 67189.09236120223\n",
      "43 67193.86382761358\n",
      "44 67189.70057846897\n",
      "45 67193.11093671454\n",
      "46 67190.14493599019\n",
      "47 67192.5815728697\n",
      "48 67190.46808343945\n",
      "49 67192.21055414516\n",
      "50 67190.7025803454\n",
      "51 67191.94899539743\n",
      "52 67190.87310190842\n",
      "53 67191.76462640223\n",
      "54 67190.99628690533\n",
      "55 67191.63453559943\n",
      "56 67191.08552977302\n",
      "57 67191.54235808869\n",
      "58 67191.1500798557\n"
     ]
    }
   ],
   "source": [
    "x = 1\n",
    "perval = perpex(pr)\n",
    "print(x, perval)\n",
    "\n",
    "\n",
    "while cond:\n",
    "    new_pr = {}\n",
    "    sinkpr = 0 \n",
    "    for link in sink:\n",
    "        sinkpr = sinkpr + pr[link]\n",
    "    \n",
    "    \n",
    "    for link in pr:\n",
    "        new_pr[link] = (1 - d) / t\n",
    "        new_pr[link] = new_pr[link] + (d * (sinkpr / t))\n",
    "        \n",
    "        for inlinkto in graph_dict_inlinks[link]:\n",
    "            new_pr[link] = new_pr[link] + (d * pr[inlinkto] / len(graph_dict_outlinks[inlinkto]))\n",
    "        \n",
    "    for page in pr:\n",
    "        pr[page] = new_pr[page]\n",
    "        \n",
    "    perval = perpex(pr)\n",
    "    x = x + 1\n",
    "    print(x, perval)\n",
    "    plex.append(perval)\n",
    "    \n",
    "    if(len(plex) == 4):\n",
    "        if( int(plex[0]) % 10 == int(plex[1]) % 10 and \n",
    "            int(plex[1]) % 10 == int(plex[2]) % 10 and\n",
    "            int(plex[2]) % 10 == int(plex[3]) % 10):\n",
    "            cond = False\n",
    "        else:\n",
    "            del plex[0]\n",
    "    \n",
    "    \n",
    "    if(x % 100 == 0):\n",
    "        print(x)\n",
    "        print(time.time() - st)\n",
    "        st = time.time()\n",
    "    \n",
    "    "
   ]
  },
  {
   "cell_type": "code",
   "execution_count": 11,
   "metadata": {
    "scrolled": true
   },
   "outputs": [
    {
     "data": {
      "text/plain": [
       "[('WT21-B37-76', 0.0026794089096288816),\n",
       " ('WT21-B37-75', 0.0015259163540456957),\n",
       " ('WT25-B39-116', 0.0014694957396147186),\n",
       " ('WT23-B21-53', 0.0013723246462927611),\n",
       " ('WT24-B40-171', 0.0012450618289422048),\n",
       " ('WT23-B39-340', 0.0012404749615735618),\n",
       " ('WT23-B37-134', 0.0012052162007143172),\n",
       " ('WT08-B18-400', 0.0011435405917700758),\n",
       " ('WT13-B06-284', 0.0011247795586402038),\n",
       " ('WT24-B26-46', 0.0010850451136138655),\n",
       " ('WT13-B06-273', 0.0010446992410235423),\n",
       " ('WT01-B18-225', 0.0009884435053158552),\n",
       " ('WT04-B27-720', 0.0009364061861272094),\n",
       " ('WT23-B19-156', 0.0008942297460622868),\n",
       " ('WT04-B30-12', 0.00081644040181571),\n",
       " ('WT24-B26-10', 0.0008074322855288311),\n",
       " ('WT25-B15-307', 0.0008043821198659716),\n",
       " ('WT07-B18-256', 0.0007749385826241598),\n",
       " ('WT24-B26-2', 0.0007713411283615804),\n",
       " ('WT14-B03-220', 0.000716434171954207),\n",
       " ('WT24-B40-167', 0.0007075022152394494),\n",
       " ('WT14-B03-227', 0.0006850142342081379),\n",
       " ('WT18-B31-240', 0.0006601885542193475),\n",
       " ('WT04-B40-202', 0.0006587023574085877),\n",
       " ('WT08-B19-222', 0.0006434322495614236),\n",
       " ('WT27-B28-203', 0.0006270011652124909),\n",
       " ('WT13-B15-160', 0.0006212964336717296),\n",
       " ('WT13-B39-295', 0.0006169600865640305),\n",
       " ('WT12-B30-56', 0.000602290463877934),\n",
       " ('WT10-B02-288', 0.0005759933792823112),\n",
       " ('WT22-B38-403', 0.0005745714733203915),\n",
       " ('WT14-B36-337', 0.0005582575238499762),\n",
       " ('WT27-B34-57', 0.0005554999288970088),\n",
       " ('WT23-B20-363', 0.0005508618162614505),\n",
       " ('WT23-B01-40', 0.0005504206597023579),\n",
       " ('WT27-B32-30', 0.0005497706409561413),\n",
       " ('WT21-B40-37', 0.0005481797312066972),\n",
       " ('WT21-B35-155', 0.0005400528097969048),\n",
       " ('WT08-B08-60', 0.0005356358155903945),\n",
       " ('WT04-B22-268', 0.0005327643747565873),\n",
       " ('WT14-B02-400', 0.00053255892946645),\n",
       " ('WT18-B14-66', 0.0005320580530823244),\n",
       " ('WT23-B27-31', 0.0005256153655742522),\n",
       " ('WT23-B38-120', 0.0005209216854182333),\n",
       " ('WT06-B35-151', 0.0005201036765735943),\n",
       " ('WT06-B14-69', 0.0005190673813992227),\n",
       " ('WT06-B35-161', 0.0005182089492700344),\n",
       " ('WT10-B33-300', 0.0005168065586134978),\n",
       " ('WT14-B36-335', 0.0005154607719726575),\n",
       " ('WT14-B36-336', 0.0005154607719726575)]"
      ]
     },
     "execution_count": 11,
     "metadata": {},
     "output_type": "execute_result"
    }
   ],
   "source": [
    "sorted(pr.items(), key=lambda kv: kv[1])[::-1][0:50]"
   ]
  }
 ],
 "metadata": {
  "kernelspec": {
   "display_name": "Python 3",
   "language": "python",
   "name": "python3"
  },
  "language_info": {
   "codemirror_mode": {
    "name": "ipython",
    "version": 3
   },
   "file_extension": ".py",
   "mimetype": "text/x-python",
   "name": "python",
   "nbconvert_exporter": "python",
   "pygments_lexer": "ipython3",
   "version": "3.5.2"
  }
 },
 "nbformat": 4,
 "nbformat_minor": 2
}
