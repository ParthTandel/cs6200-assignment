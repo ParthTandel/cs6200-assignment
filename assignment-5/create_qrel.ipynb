{
 "cells": [
  {
   "cell_type": "code",
   "execution_count": 1,
   "metadata": {},
   "outputs": [],
   "source": [
    "import pymysql.cursors\n",
    "from statistics import median\n"
   ]
  },
  {
   "cell_type": "code",
   "execution_count": 2,
   "metadata": {},
   "outputs": [],
   "source": [
    "connection = pymysql.connect(host='localhost',\n",
    "                             user='root',\n",
    "                             password='1234',\n",
    "                             db='qrels',\n",
    "                             cursorclass=pymysql.cursors.DictCursor)"
   ]
  },
  {
   "cell_type": "code",
   "execution_count": 3,
   "metadata": {},
   "outputs": [],
   "source": [
    "try:\n",
    "    with connection.cursor() as cursor:\n",
    "        sql = \"SELECT * from qrels.url_ratings\"\n",
    "        cursor.execute(sql)\n",
    "        result = cursor.fetchall()\n",
    "#         print(result)\n",
    "        count = 0\n",
    "    with open(\"qrel_parth\",\"w\") as file:\n",
    "        for row in result:\n",
    "            file.write(str(row['queryid']) + \" \" + str(row['accessor_id']) + \" \" + row['urlname'] + \" \" + str(row[\"grade\"]) +\"\\n\")\n",
    "#             print(count)\n",
    "#             count = count + 1\n",
    "#             for  in row:\n",
    "#                 print(key,value)\n",
    "\n",
    "finally:\n",
    "    connection.close()"
   ]
  },
  {
   "cell_type": "code",
   "execution_count": 4,
   "metadata": {},
   "outputs": [],
   "source": [
    "qrel_parth = {}\n",
    "with open(\"qrel_parth\") as file:\n",
    "    text = file.read().split(\"\\n\")[:-1]\n",
    "    for line in text:\n",
    "        line = line.split()\n",
    "        if line[0] not in qrel_parth:\n",
    "            qrel_parth[line[0]] = {}\n",
    "        qrel_parth[line[0]][line[2]] = line[3]\n",
    "        \n",
    "        \n",
    "qrel_priya = {}\n",
    "with open(\"qrel_priya\") as file:\n",
    "    text = file.read().split(\"\\n\")[:-1]\n",
    "    for line in text:\n",
    "        line = line.split()\n",
    "        if line[0] not in qrel_priya:\n",
    "            qrel_priya[line[0]] = {}\n",
    "        qrel_priya[line[0]][line[2]] = line[3]\n",
    "        \n",
    "# print(qrel_parth)"
   ]
  },
  {
   "cell_type": "code",
   "execution_count": 6,
   "metadata": {},
   "outputs": [],
   "source": [
    "###### \"QueryID AssessorID DocID Grade\"\n",
    "with open(\"final_qrel\", \"w\") as file:\n",
    "    for query in qrel_parth:\n",
    "        for url in qrel_parth[query]:\n",
    "            if url in qrel_priya[query]:\n",
    "#                 print(url, \"parth\", qrel_parth[query][url], \"priya\", qrel_priya[query][url])\n",
    "                file.write(str(query) + \" 0 \" + url + \" \" + str(int(median([int(qrel_parth[query][url]), int(qrel_priya[query][url])]))) + \"\\n\")\n",
    "    "
   ]
  },
  {
   "cell_type": "markdown",
   "metadata": {},
   "source": [
    "###### \"QueryID AssessorID DocID Grade\"\n",
    "with open(\"final_qrel\", \"w\") as file:\n",
    "    for query in qrel_parth:\n",
    "        for url in qrel_parth[query]:\n",
    "            if url in qrel_priya[query]:\n",
    "                print()\n",
    "                file.write(str(query) + \" 0 \" + url + \" \" + str(int(median([int(qrel_parth[query][url]), int(qrel_priya[query][url])]))) + \"\\n\")\n",
    "    "
   ]
  }
 ],
 "metadata": {
  "kernelspec": {
   "display_name": "Python 3",
   "language": "python",
   "name": "python3"
  },
  "language_info": {
   "codemirror_mode": {
    "name": "ipython",
    "version": 3
   },
   "file_extension": ".py",
   "mimetype": "text/x-python",
   "name": "python",
   "nbconvert_exporter": "python",
   "pygments_lexer": "ipython3",
   "version": "3.5.2"
  }
 },
 "nbformat": 4,
 "nbformat_minor": 2
}
