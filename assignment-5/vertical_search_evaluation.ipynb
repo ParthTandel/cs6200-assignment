{
 "cells": [
  {
   "cell_type": "code",
   "execution_count": 3,
   "metadata": {},
   "outputs": [],
   "source": [
    "from datetime import datetime\n",
    "from elasticsearch import Elasticsearch\n",
    "import glob\n",
    "import re\n",
    "import json\n",
    "import os.path\n",
    "from urllib.parse import urlparse"
   ]
  },
  {
   "cell_type": "code",
   "execution_count": 5,
   "metadata": {},
   "outputs": [],
   "source": [
    "es = Elasticsearch()"
   ]
  },
  {
   "cell_type": "code",
   "execution_count": 10,
   "metadata": {},
   "outputs": [],
   "source": [
    "body = {\n",
    "        \"query\": {\n",
    "            \"query_string\": {\n",
    "                \"query\": \"founding father\"\n",
    "            }  \n",
    "        },\"size\": 1000\n",
    "    }"
   ]
  },
  {
   "cell_type": "code",
   "execution_count": 12,
   "metadata": {},
   "outputs": [],
   "source": [
    "res = es.search(index=\"crawled_data_merged\", body=body)"
   ]
  },
  {
   "cell_type": "code",
   "execution_count": 32,
   "metadata": {},
   "outputs": [],
   "source": [
    "body = {\n",
    "        \"query\": {\n",
    "            \"query_string\": {\n",
    "                \"query\": \"independence war causes\"\n",
    "            }  \n",
    "        },\"size\": 1000\n",
    "    }"
   ]
  },
  {
   "cell_type": "code",
   "execution_count": 34,
   "metadata": {},
   "outputs": [],
   "source": [
    "res1 = es.search(index=\"crawled_data_merged\", body=body)"
   ]
  },
  {
   "cell_type": "code",
   "execution_count": 36,
   "metadata": {},
   "outputs": [],
   "source": [
    "with open(\"vertical_search_score\", \"w\") as file:\n",
    "    r = 1\n",
    "    for url in res[\"hits\"][\"hits\"]:\n",
    "        file.write(str(2) + \" \" + \"Q0\" + \" \" + url[\"_id\"] + \" \"  + str(r) + \" \" + str(url[\"_score\"]) + \" Exp\\n\")\n",
    "        r = r + 1\n",
    "    r = 1\n",
    "    for url in res1[\"hits\"][\"hits\"]:\n",
    "        file.write(str(1) + \" \" + \"Q0\" + \" \" + url[\"_id\"] + \" \"  + str(r) + \" \" + str(url[\"_score\"]) + \" Exp\\n\")\n",
    "        r = r + 1"
   ]
  }
 ],
 "metadata": {
  "kernelspec": {
   "display_name": "Python 3",
   "language": "python",
   "name": "python3"
  },
  "language_info": {
   "codemirror_mode": {
    "name": "ipython",
    "version": 3
   },
   "file_extension": ".py",
   "mimetype": "text/x-python",
   "name": "python",
   "nbconvert_exporter": "python",
   "pygments_lexer": "ipython3",
   "version": "3.5.2"
  }
 },
 "nbformat": 4,
 "nbformat_minor": 2
}
