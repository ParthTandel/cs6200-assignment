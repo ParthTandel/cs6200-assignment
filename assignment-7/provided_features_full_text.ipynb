{
 "cells": [
  {
   "cell_type": "code",
   "execution_count": 1,
   "metadata": {},
   "outputs": [],
   "source": [
    "import elasticsearch\n",
    "from elasticsearch_dsl import Search\n",
    "import scipy.sparse as sparse\n",
    "from sklearn.naive_bayes import GaussianNB"
   ]
  },
  {
   "cell_type": "code",
   "execution_count": 2,
   "metadata": {},
   "outputs": [],
   "source": [
    "from sklearn import linear_model\n",
    "from sklearn.metrics import accuracy_score\n",
    "from sklearn import tree\n",
    "import numpy as np"
   ]
  },
  {
   "cell_type": "code",
   "execution_count": 3,
   "metadata": {},
   "outputs": [],
   "source": [
    "es = elasticsearch.Elasticsearch()"
   ]
  },
  {
   "cell_type": "code",
   "execution_count": 4,
   "metadata": {},
   "outputs": [],
   "source": [
    "results = elasticsearch.helpers.scan(es,\n",
    "    index=\"spam_ham_2\",\n",
    "    doc_type=\"doc\",\n",
    "    preserve_order=True,\n",
    "    query={\"query\": {\"match_all\": {}}},\n",
    ")\n",
    "\n",
    "index = 0\n",
    "test_index = 0\n",
    "\n",
    "train_doc_id_mapping = {}\n",
    "train_id_doc_mapping = {}\n",
    "train_is_spam = []\n",
    "\n",
    "\n",
    "test_doc_id_mapping = {}\n",
    "test_id_doc_mapping = {}\n",
    "test_is_spam = []\n",
    "\n",
    "\n",
    "for item in results:\n",
    "    \n",
    "    if item['_source']['train'] == \"True\":    \n",
    "        train_doc_id_mapping[item['_id']] = index\n",
    "        train_id_doc_mapping[index] = item['_id']\n",
    "        is_spam = 0\n",
    "\n",
    "        if item['_source']['spam'] == \"True\":\n",
    "            is_spam = 1\n",
    "            \n",
    "        train_is_spam.append(is_spam)\n",
    "        index = index + 1\n",
    "        \n",
    "    else:\n",
    "        \n",
    "           \n",
    "        test_doc_id_mapping[item['_id']] = test_index\n",
    "        test_id_doc_mapping[test_index] = item['_id']\n",
    "        is_spam = 0\n",
    "\n",
    "        if item['_source']['spam'] == \"True\":\n",
    "            is_spam = 1\n",
    "            \n",
    "        test_is_spam.append(is_spam)\n",
    "        test_index = test_index + 1\n",
    "        "
   ]
  },
  {
   "cell_type": "code",
   "execution_count": 5,
   "metadata": {},
   "outputs": [
    {
     "data": {
      "text/plain": [
       "(60336, 15083, 60336, 15083)"
      ]
     },
     "execution_count": 5,
     "metadata": {},
     "output_type": "execute_result"
    }
   ],
   "source": [
    "len(train_doc_id_mapping),len(test_doc_id_mapping), len(train_is_spam), len(test_is_spam)"
   ]
  },
  {
   "cell_type": "code",
   "execution_count": 6,
   "metadata": {},
   "outputs": [],
   "source": [
    "with open(\"features_provided\") as file:\n",
    "    features = file.read().split(\" \")[:-1]"
   ]
  },
  {
   "cell_type": "code",
   "execution_count": 7,
   "metadata": {},
   "outputs": [],
   "source": [
    "feature_id_mapping = {}\n",
    "id_feature_mapping = {}\n",
    "index = 0\n",
    "\n",
    "for word in features:\n",
    "    feature_id_mapping[word.lower()] = index\n",
    "    id_feature_mapping[index] = word.lower()\n",
    "    index = index + 1\n",
    "    "
   ]
  },
  {
   "cell_type": "code",
   "execution_count": 8,
   "metadata": {},
   "outputs": [],
   "source": [
    "# body_doc"
   ]
  },
  {
   "cell_type": "code",
   "execution_count": 9,
   "metadata": {},
   "outputs": [
    {
     "name": "stdout",
     "output_type": "stream",
     "text": [
      "credit, fast, visit, act, meet, luxury, weight, home, our, collect, remove, ad, order, limited, medicine, refinance, trial, singles, free, click, cash, only, bonus, loans, deal, unsolicited, $discount, here, 100%, performance, valium, interest, join, website, celebrity, profit, price, sales, win, diagnostics, $$$, miracle, spam, extra, dollars, affordable, success, clearance, buy, subscribe, prize, lose, legal, double, earn, rate, check, hidden, shopper, virus, money, chance, incredible, viagra, instant, freedom, malware, compare, million, now, no, lower, "
     ]
    }
   ],
   "source": [
    "docs_analysed = {}\n",
    "body_doc = {\n",
    "    \"query\": {    \n",
    "        \"match\" : {\n",
    "            \"text\" : \"\"\n",
    "            }\n",
    "        },\n",
    "    \"from\" : 0,\n",
    "    \"size\" : 1000\n",
    "}\n",
    "\n",
    "for i in feature_id_mapping:\n",
    "    print(i , end=\", \")\n",
    "    body_doc[\"query\"][\"match\"][\"text\"] = i\n",
    "    total_res = []\n",
    "    hits = es.search(index=\"spam_ham_2\", body=body_doc)\n",
    "    total_res = total_res + hits['hits']['hits']\n",
    "    \n",
    "    while len(total_res) < hits['hits']['total']:\n",
    "        body_doc[\"from\"] = len(total_res)\n",
    "        hits = es.search(index=\"spam_ham_2\", body=body_doc, size=1000)\n",
    "        total_res = total_res + hits['hits']['hits']\n",
    "    \n",
    "    if len(total_res) == 0:\n",
    "        continue\n",
    "    else:\n",
    "        for doc in total_res:\n",
    "            if doc[\"_id\"] not in train_doc_id_mapping:\n",
    "                continue\n",
    "            if doc[\"_id\"] in docs_analysed:\n",
    "                continue\n",
    "            docs_analysed[doc[\"_id\"]] = {}\n",
    "            term_vects = es.termvectors(index = 'spam_ham_2', \n",
    "               doc_type = 'doc', \n",
    "               id = doc[\"_id\"], \n",
    "               fields = [\"text\"], \n",
    "               payloads=False, \n",
    "               positions=False,\n",
    "               offsets=False,\n",
    "               term_statistics=True,\n",
    "               field_statistics=True)\n",
    "            \n",
    "            for word in features:\n",
    "                if(word.lower() in term_vects['term_vectors']['text']['terms']):\n",
    "                    tf = term_vects['term_vectors']['text']['terms'][word.lower()][\"term_freq\"]\n",
    "                    docs_analysed[doc[\"_id\"]][feature_id_mapping[word.lower()]] = tf"
   ]
  },
  {
   "cell_type": "code",
   "execution_count": 10,
   "metadata": {},
   "outputs": [],
   "source": [
    "row = []\n",
    "col = []\n",
    "data = []\n",
    "# label_train = []\n",
    "\n",
    "\n",
    "# row_test = []\n",
    "# col_test = []\n",
    "# data_test = []\n",
    "# label_test = []\n",
    "\n",
    "for doc in docs_analysed:\n",
    "    for term in docs_analysed[doc]:\n",
    "        if doc in train_doc_id_mapping:\n",
    "            \n",
    "            row.append(train_doc_id_mapping[doc])\n",
    "            col.append(term)\n",
    "            data.append(docs_analysed[doc][term])\n",
    "\n",
    "#         else:\n",
    "#             row_test.append(test_doc_id_mapping[doc])\n",
    "#             col_test.append(term)\n",
    "#             data_test.append(docs_analysed[doc][term])\n",
    "            "
   ]
  },
  {
   "cell_type": "code",
   "execution_count": 11,
   "metadata": {},
   "outputs": [],
   "source": [
    "sparse_mat_train = sparse.csr_matrix((data, (row, col)), shape=(len(train_doc_id_mapping), len(features)))"
   ]
  },
  {
   "cell_type": "code",
   "execution_count": 12,
   "metadata": {},
   "outputs": [
    {
     "data": {
      "text/plain": [
       "<60336x83 sparse matrix of type '<class 'numpy.int64'>'\n",
       "\twith 226724 stored elements in Compressed Sparse Row format>"
      ]
     },
     "execution_count": 12,
     "metadata": {},
     "output_type": "execute_result"
    }
   ],
   "source": [
    "sparse_mat_train"
   ]
  },
  {
   "cell_type": "code",
   "execution_count": 13,
   "metadata": {},
   "outputs": [
    {
     "name": "stdout",
     "output_type": "stream",
     "text": [
      "credit, fast, visit, act, meet, luxury, weight, home, our, collect, remove, ad, order, limited, medicine, refinance, trial, singles, free, click, cash, only, bonus, loans, deal, unsolicited, $discount, here, 100%, performance, valium, interest, join, website, celebrity, profit, price, sales, win, diagnostics, $$$, miracle, spam, extra, dollars, affordable, success, clearance, buy, subscribe, prize, lose, legal, double, earn, rate, check, hidden, shopper, virus, money, chance, incredible, viagra, instant, freedom, malware, compare, million, now, no, lower, "
     ]
    }
   ],
   "source": [
    "docs_analysed = {}\n",
    "body_doc = {\n",
    "    \"query\": {    \n",
    "        \"match\" : {\n",
    "            \"text\" : \"\"\n",
    "            }\n",
    "        },\n",
    "    \"from\" : 0,\n",
    "    \"size\" : 1000\n",
    "}\n",
    "\n",
    "\n",
    "for i in feature_id_mapping:\n",
    "    print(i , end=\", \")\n",
    "    body_doc[\"query\"][\"match\"][\"text\"] = i\n",
    "    total_res = []\n",
    "    hits = es.search(index=\"spam_ham_2\", body=body_doc)\n",
    "    total_res = total_res + hits['hits']['hits']\n",
    "    \n",
    "    while len(total_res) < hits['hits']['total']:\n",
    "        body_doc[\"from\"] = len(total_res)\n",
    "        hits = es.search(index=\"spam_ham_2\", body=body_doc, size=1000)\n",
    "        total_res = total_res + hits['hits']['hits']\n",
    "    \n",
    "    if len(total_res) == 0:\n",
    "        continue\n",
    "    else:\n",
    "        for doc in total_res:\n",
    "            if doc[\"_id\"] not in test_doc_id_mapping:\n",
    "                continue\n",
    "            if doc[\"_id\"] in docs_analysed:\n",
    "                continue\n",
    "            docs_analysed[doc[\"_id\"]] = {}\n",
    "            term_vects = es.termvectors(index = 'spam_ham_2', \n",
    "               doc_type = 'doc', \n",
    "               id = doc[\"_id\"], \n",
    "               fields = [\"text\"], \n",
    "               payloads=False, \n",
    "               positions=False,\n",
    "               offsets=False,\n",
    "               term_statistics=True,\n",
    "               field_statistics=True)\n",
    "            \n",
    "            for word in features:\n",
    "                if(word.lower() in term_vects['term_vectors']['text']['terms']):\n",
    "                    tf = term_vects['term_vectors']['text']['terms'][word.lower()][\"term_freq\"]\n",
    "                    docs_analysed[doc[\"_id\"]][feature_id_mapping[word.lower()]] = tf"
   ]
  },
  {
   "cell_type": "code",
   "execution_count": 14,
   "metadata": {},
   "outputs": [],
   "source": [
    "row_test = []\n",
    "col_test = []\n",
    "data_test = []\n",
    "\n",
    "for doc in docs_analysed:\n",
    "    for term in docs_analysed[doc]:\n",
    "        if doc in test_doc_id_mapping:\n",
    "            \n",
    "            row_test.append(test_doc_id_mapping[doc])\n",
    "            col_test.append(term)\n",
    "            data_test.append(docs_analysed[doc][term])\n",
    "            "
   ]
  },
  {
   "cell_type": "code",
   "execution_count": 15,
   "metadata": {},
   "outputs": [],
   "source": [
    "sparse_mat_test = sparse.csr_matrix((data_test, (row_test, col_test)), shape=(len(test_doc_id_mapping), len(features)))"
   ]
  },
  {
   "cell_type": "code",
   "execution_count": 16,
   "metadata": {},
   "outputs": [
    {
     "data": {
      "text/plain": [
       "<60336x83 sparse matrix of type '<class 'numpy.int64'>'\n",
       "\twith 226724 stored elements in Compressed Sparse Row format>"
      ]
     },
     "execution_count": 16,
     "metadata": {},
     "output_type": "execute_result"
    }
   ],
   "source": [
    "sparse_mat_train"
   ]
  },
  {
   "cell_type": "code",
   "execution_count": 17,
   "metadata": {},
   "outputs": [
    {
     "data": {
      "text/plain": [
       "<15083x83 sparse matrix of type '<class 'numpy.int64'>'\n",
       "\twith 56738 stored elements in Compressed Sparse Row format>"
      ]
     },
     "execution_count": 17,
     "metadata": {},
     "output_type": "execute_result"
    }
   ],
   "source": [
    "sparse_mat_test"
   ]
  },
  {
   "cell_type": "code",
   "execution_count": 18,
   "metadata": {},
   "outputs": [
    {
     "data": {
      "text/plain": [
       "DecisionTreeClassifier(class_weight=None, criterion='gini', max_depth=None,\n",
       "            max_features=None, max_leaf_nodes=None,\n",
       "            min_impurity_decrease=0.0, min_impurity_split=None,\n",
       "            min_samples_leaf=1, min_samples_split=2,\n",
       "            min_weight_fraction_leaf=0.0, presort=False, random_state=None,\n",
       "            splitter='best')"
      ]
     },
     "execution_count": 18,
     "metadata": {},
     "output_type": "execute_result"
    }
   ],
   "source": [
    "clf = tree.DecisionTreeClassifier()\n",
    "clf.fit(sparse_mat_train, train_is_spam)"
   ]
  },
  {
   "cell_type": "code",
   "execution_count": 19,
   "metadata": {},
   "outputs": [
    {
     "name": "stdout",
     "output_type": "stream",
     "text": [
      "0.987370723945903\n"
     ]
    }
   ],
   "source": [
    "print(accuracy_score(clf.predict(sparse_mat_train), train_is_spam))"
   ]
  },
  {
   "cell_type": "code",
   "execution_count": 20,
   "metadata": {},
   "outputs": [],
   "source": [
    "test_pred = clf.predict(sparse_mat_test)"
   ]
  },
  {
   "cell_type": "code",
   "execution_count": 21,
   "metadata": {},
   "outputs": [
    {
     "name": "stdout",
     "output_type": "stream",
     "text": [
      "0.9678445932506796\n"
     ]
    }
   ],
   "source": [
    "print(accuracy_score(test_pred, test_is_spam))"
   ]
  },
  {
   "cell_type": "code",
   "execution_count": 22,
   "metadata": {},
   "outputs": [
    {
     "ename": "IndexError",
     "evalue": "list index out of range",
     "output_type": "error",
     "traceback": [
      "\u001b[0;31m---------------------------------------------------------------------------\u001b[0m",
      "\u001b[0;31mIndexError\u001b[0m                                Traceback (most recent call last)",
      "\u001b[0;32m<ipython-input-22-6dee9ec8979e>\u001b[0m in \u001b[0;36m<module>\u001b[0;34m()\u001b[0m\n\u001b[1;32m     12\u001b[0m     \u001b[0mbody_doc\u001b[0m\u001b[0;34m[\u001b[0m\u001b[0;34m\"query\"\u001b[0m\u001b[0;34m]\u001b[0m\u001b[0;34m[\u001b[0m\u001b[0;34m\"match\"\u001b[0m\u001b[0;34m]\u001b[0m\u001b[0;34m[\u001b[0m\u001b[0;34m\"name\"\u001b[0m\u001b[0;34m]\u001b[0m \u001b[0;34m=\u001b[0m \u001b[0;34m\"trec07p/data/\"\u001b[0m \u001b[0;34m+\u001b[0m \u001b[0mtest_id_doc_mapping\u001b[0m\u001b[0;34m[\u001b[0m\u001b[0mi\u001b[0m\u001b[0;34m]\u001b[0m\u001b[0;34m\u001b[0m\u001b[0m\n\u001b[1;32m     13\u001b[0m     \u001b[0mhits\u001b[0m \u001b[0;34m=\u001b[0m \u001b[0mes\u001b[0m\u001b[0;34m.\u001b[0m\u001b[0msearch\u001b[0m\u001b[0;34m(\u001b[0m\u001b[0mindex\u001b[0m\u001b[0;34m=\u001b[0m\u001b[0;34m\"spam_ham_2\"\u001b[0m\u001b[0;34m,\u001b[0m \u001b[0mbody\u001b[0m\u001b[0;34m=\u001b[0m\u001b[0mbody_doc\u001b[0m\u001b[0;34m)\u001b[0m\u001b[0;34m\u001b[0m\u001b[0m\n\u001b[0;32m---> 14\u001b[0;31m     \u001b[0mprint\u001b[0m\u001b[0;34m(\u001b[0m\u001b[0mc\u001b[0m\u001b[0;34m,\u001b[0m\u001b[0;34m\"\\t\"\u001b[0m\u001b[0;34m,\u001b[0m \u001b[0mtest_id_doc_mapping\u001b[0m\u001b[0;34m[\u001b[0m\u001b[0mi\u001b[0m\u001b[0;34m]\u001b[0m\u001b[0;34m,\u001b[0m \u001b[0;34m\"\\t\"\u001b[0m\u001b[0;34m,\u001b[0m\u001b[0;34m\"spam:\"\u001b[0m\u001b[0;34m,\u001b[0m\u001b[0mhits\u001b[0m\u001b[0;34m[\u001b[0m\u001b[0;34m\"hits\"\u001b[0m\u001b[0;34m]\u001b[0m\u001b[0;34m[\u001b[0m\u001b[0;34m\"hits\"\u001b[0m\u001b[0;34m]\u001b[0m\u001b[0;34m[\u001b[0m\u001b[0;36m0\u001b[0m\u001b[0;34m]\u001b[0m\u001b[0;34m[\u001b[0m\u001b[0;34m\"_source\"\u001b[0m\u001b[0;34m]\u001b[0m\u001b[0;34m[\u001b[0m\u001b[0;34m\"spam\"\u001b[0m\u001b[0;34m]\u001b[0m\u001b[0;34m)\u001b[0m\u001b[0;34m\u001b[0m\u001b[0m\n\u001b[0m\u001b[1;32m     15\u001b[0m     \u001b[0mc\u001b[0m \u001b[0;34m=\u001b[0m \u001b[0mc\u001b[0m \u001b[0;34m+\u001b[0m \u001b[0;36m1\u001b[0m\u001b[0;34m\u001b[0m\u001b[0m\n",
      "\u001b[0;31mIndexError\u001b[0m: list index out of range"
     ]
    }
   ],
   "source": [
    "body_doc = {\n",
    "  \"query\" :{\n",
    "    \"match\": {\n",
    "      \"name\": \"\"\n",
    "    }\n",
    "  } \n",
    "}\n",
    "\n",
    "c = 1\n",
    "for i in np.argsort(test_pred)[::-1][0:50]:\n",
    "    \n",
    "    body_doc[\"query\"][\"match\"][\"name\"] = \"trec07p/data/\" + test_id_doc_mapping[i]\n",
    "    hits = es.search(index=\"spam_ham_2\", body=body_doc)\n",
    "    print(c,\"\\t\", test_id_doc_mapping[i], \"\\t\",\"spam:\",hits[\"hits\"][\"hits\"][0][\"_source\"][\"spam\"])\n",
    "    c = c + 1"
   ]
  }
 ],
 "metadata": {
  "kernelspec": {
   "display_name": "Python 3",
   "language": "python",
   "name": "python3"
  },
  "language_info": {
   "codemirror_mode": {
    "name": "ipython",
    "version": 3
   },
   "file_extension": ".py",
   "mimetype": "text/x-python",
   "name": "python",
   "nbconvert_exporter": "python",
   "pygments_lexer": "ipython3",
   "version": "3.5.2"
  }
 },
 "nbformat": 4,
 "nbformat_minor": 2
}
