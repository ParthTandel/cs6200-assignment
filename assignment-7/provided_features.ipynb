{
 "cells": [
  {
   "cell_type": "code",
   "execution_count": 1,
   "metadata": {},
   "outputs": [],
   "source": [
    "import elasticsearch\n",
    "from elasticsearch_dsl import Search\n",
    "import scipy.sparse as sparse\n",
    "from sklearn.naive_bayes import GaussianNB"
   ]
  },
  {
   "cell_type": "code",
   "execution_count": 2,
   "metadata": {},
   "outputs": [],
   "source": [
    "from sklearn import linear_model\n",
    "from sklearn.metrics import accuracy_score\n",
    "from sklearn import tree\n",
    "import numpy as np"
   ]
  },
  {
   "cell_type": "code",
   "execution_count": 3,
   "metadata": {},
   "outputs": [],
   "source": [
    "es = elasticsearch.Elasticsearch()"
   ]
  },
  {
   "cell_type": "code",
   "execution_count": 4,
   "metadata": {},
   "outputs": [],
   "source": [
    "results = elasticsearch.helpers.scan(es,\n",
    "    index=\"spam_ham\",\n",
    "    doc_type=\"doc\",\n",
    "    preserve_order=True,\n",
    "    query={\"query\": {\"match_all\": {}}},\n",
    ")\n",
    "\n",
    "index = 0\n",
    "test_index = 0\n",
    "\n",
    "train_doc_id_mapping = {}\n",
    "train_id_doc_mapping = {}\n",
    "train_is_spam = []\n",
    "\n",
    "\n",
    "test_doc_id_mapping = {}\n",
    "test_id_doc_mapping = {}\n",
    "test_is_spam = []\n",
    "\n",
    "\n",
    "for item in results:\n",
    "    \n",
    "    if item['_source']['train'] == \"True\":    \n",
    "        train_doc_id_mapping[item['_id']] = index\n",
    "        train_id_doc_mapping[index] = item['_id']\n",
    "        is_spam = 0\n",
    "\n",
    "        if item['_source']['spam'] == \"True\":\n",
    "            is_spam = 1\n",
    "            \n",
    "        train_is_spam.append(is_spam)\n",
    "        index = index + 1\n",
    "        \n",
    "    else:\n",
    "        \n",
    "           \n",
    "        test_doc_id_mapping[item['_id']] = test_index\n",
    "        test_id_doc_mapping[test_index] = item['_id']\n",
    "        is_spam = 0\n",
    "\n",
    "        if item['_source']['spam'] == \"True\":\n",
    "            is_spam = 1\n",
    "            \n",
    "        test_is_spam.append(is_spam)\n",
    "        test_index = test_index + 1\n",
    "        "
   ]
  },
  {
   "cell_type": "code",
   "execution_count": 5,
   "metadata": {},
   "outputs": [
    {
     "data": {
      "text/plain": [
       "(60336, 15083, 60336, 15083)"
      ]
     },
     "execution_count": 5,
     "metadata": {},
     "output_type": "execute_result"
    }
   ],
   "source": [
    "len(train_doc_id_mapping),len(test_doc_id_mapping), len(train_is_spam), len(test_is_spam)"
   ]
  },
  {
   "cell_type": "code",
   "execution_count": 6,
   "metadata": {},
   "outputs": [],
   "source": [
    "with open(\"features_provided\") as file:\n",
    "    features = file.read().split(\" \")[:-1]"
   ]
  },
  {
   "cell_type": "code",
   "execution_count": 7,
   "metadata": {},
   "outputs": [],
   "source": [
    "feature_id_mapping = {}\n",
    "id_feature_mapping = {}\n",
    "index = 0\n",
    "\n",
    "for word in features:\n",
    "    feature_id_mapping[word.lower()] = index\n",
    "    id_feature_mapping[index] = word.lower()\n",
    "    index = index + 1\n",
    "    "
   ]
  },
  {
   "cell_type": "code",
   "execution_count": 8,
   "metadata": {},
   "outputs": [],
   "source": [
    "# body_doc"
   ]
  },
  {
   "cell_type": "code",
   "execution_count": 9,
   "metadata": {},
   "outputs": [
    {
     "name": "stdout",
     "output_type": "stream",
     "text": [
      "compare, home, $$$, prize, loans, luxury, virus, lower, unsolicited, ad, dollars, limited, interest, celebrity, affordable, malware, legal, clearance, chance, bonus, fast, only, weight, subscribe, trial, extra, valium, freedom, act, click, medicine, no, diagnostics, performance, price, join, win, singles, cash, instant, $discount, spam, profit, refinance, here, earn, credit, website, buy, viagra, rate, free, deal, miracle, now, shopper, million, lose, 100%, check, meet, collect, remove, order, money, sales, incredible, double, our, hidden, visit, success, "
     ]
    }
   ],
   "source": [
    "docs_analysed = {}\n",
    "body_doc = {\n",
    "    \"query\": {    \n",
    "        \"match\" : {\n",
    "            \"text\" : \"\"\n",
    "            }\n",
    "        },\n",
    "    \"from\" : 0,\n",
    "    \"size\" : 1000\n",
    "}\n",
    "\n",
    "for i in feature_id_mapping:\n",
    "    print(i , end=\", \")\n",
    "    body_doc[\"query\"][\"match\"][\"text\"] = i\n",
    "    total_res = []\n",
    "    hits = es.search(index=\"spam_ham\", body=body_doc)\n",
    "    total_res = total_res + hits['hits']['hits']\n",
    "    \n",
    "    while len(total_res) < hits['hits']['total']:\n",
    "        body_doc[\"from\"] = len(total_res)\n",
    "        hits = es.search(index=\"spam_ham\", body=body_doc, size=1000)\n",
    "        total_res = total_res + hits['hits']['hits']\n",
    "    \n",
    "    if len(total_res) == 0:\n",
    "        continue\n",
    "    else:\n",
    "        for doc in total_res:\n",
    "            if doc[\"_id\"] not in train_doc_id_mapping:\n",
    "                continue\n",
    "            if doc[\"_id\"] in docs_analysed:\n",
    "                continue\n",
    "            docs_analysed[doc[\"_id\"]] = {}\n",
    "            term_vects = es.termvectors(index = 'spam_ham', \n",
    "               doc_type = 'doc', \n",
    "               id = doc[\"_id\"], \n",
    "               fields = [\"text\"], \n",
    "               payloads=False, \n",
    "               positions=False,\n",
    "               offsets=False,\n",
    "               term_statistics=True,\n",
    "               field_statistics=True)\n",
    "            \n",
    "            for word in features:\n",
    "                if(word.lower() in term_vects['term_vectors']['text']['terms']):\n",
    "                    tf = term_vects['term_vectors']['text']['terms'][word.lower()][\"term_freq\"]\n",
    "                    docs_analysed[doc[\"_id\"]][feature_id_mapping[word.lower()]] = tf"
   ]
  },
  {
   "cell_type": "code",
   "execution_count": 10,
   "metadata": {},
   "outputs": [],
   "source": [
    "row = []\n",
    "col = []\n",
    "data = []\n",
    "# label_train = []\n",
    "\n",
    "\n",
    "# row_test = []\n",
    "# col_test = []\n",
    "# data_test = []\n",
    "# label_test = []\n",
    "\n",
    "for doc in docs_analysed:\n",
    "    for term in docs_analysed[doc]:\n",
    "        if doc in train_doc_id_mapping:\n",
    "            \n",
    "            row.append(train_doc_id_mapping[doc])\n",
    "            col.append(term)\n",
    "            data.append(docs_analysed[doc][term])\n",
    "\n",
    "#         else:\n",
    "#             row_test.append(test_doc_id_mapping[doc])\n",
    "#             col_test.append(term)\n",
    "#             data_test.append(docs_analysed[doc][term])\n",
    "            "
   ]
  },
  {
   "cell_type": "code",
   "execution_count": 11,
   "metadata": {},
   "outputs": [],
   "source": [
    "sparse_mat_train = sparse.csr_matrix((data, (row, col)), shape=(len(train_doc_id_mapping), len(features)))"
   ]
  },
  {
   "cell_type": "code",
   "execution_count": 12,
   "metadata": {},
   "outputs": [
    {
     "data": {
      "text/plain": [
       "<60336x83 sparse matrix of type '<class 'numpy.int64'>'\n",
       "\twith 176609 stored elements in Compressed Sparse Row format>"
      ]
     },
     "execution_count": 12,
     "metadata": {},
     "output_type": "execute_result"
    }
   ],
   "source": [
    "sparse_mat_train"
   ]
  },
  {
   "cell_type": "code",
   "execution_count": 13,
   "metadata": {},
   "outputs": [
    {
     "name": "stdout",
     "output_type": "stream",
     "text": [
      "compare, home, $$$, prize, loans, luxury, virus, lower, unsolicited, ad, dollars, limited, interest, celebrity, affordable, malware, legal, clearance, chance, bonus, fast, only, weight, subscribe, trial, extra, valium, freedom, act, click, medicine, no, diagnostics, performance, price, join, win, singles, cash, instant, $discount, spam, profit, refinance, here, earn, credit, website, buy, viagra, rate, free, deal, miracle, now, shopper, million, lose, 100%, check, meet, collect, remove, order, money, sales, incredible, double, our, hidden, visit, success, "
     ]
    }
   ],
   "source": [
    "docs_analysed = {}\n",
    "body_doc = {\n",
    "    \"query\": {    \n",
    "        \"match\" : {\n",
    "            \"text\" : \"\"\n",
    "            }\n",
    "        },\n",
    "    \"from\" : 0,\n",
    "    \"size\" : 1000\n",
    "}\n",
    "\n",
    "\n",
    "for i in feature_id_mapping:\n",
    "    print(i , end=\", \")\n",
    "    body_doc[\"query\"][\"match\"][\"text\"] = i\n",
    "    total_res = []\n",
    "    hits = es.search(index=\"spam_ham\", body=body_doc)\n",
    "    total_res = total_res + hits['hits']['hits']\n",
    "    \n",
    "    while len(total_res) < hits['hits']['total']:\n",
    "        body_doc[\"from\"] = len(total_res)\n",
    "        hits = es.search(index=\"spam_ham\", body=body_doc, size=1000)\n",
    "        total_res = total_res + hits['hits']['hits']\n",
    "    \n",
    "    if len(total_res) == 0:\n",
    "        continue\n",
    "    else:\n",
    "        for doc in total_res:\n",
    "            if doc[\"_id\"] not in test_doc_id_mapping:\n",
    "                continue\n",
    "            if doc[\"_id\"] in docs_analysed:\n",
    "                continue\n",
    "            docs_analysed[doc[\"_id\"]] = {}\n",
    "            term_vects = es.termvectors(index = 'spam_ham', \n",
    "               doc_type = 'doc', \n",
    "               id = doc[\"_id\"], \n",
    "               fields = [\"text\"], \n",
    "               payloads=False, \n",
    "               positions=False,\n",
    "               offsets=False,\n",
    "               term_statistics=True,\n",
    "               field_statistics=True)\n",
    "            \n",
    "            for word in features:\n",
    "                if(word.lower() in term_vects['term_vectors']['text']['terms']):\n",
    "                    tf = term_vects['term_vectors']['text']['terms'][word.lower()][\"term_freq\"]\n",
    "                    docs_analysed[doc[\"_id\"]][feature_id_mapping[word.lower()]] = tf"
   ]
  },
  {
   "cell_type": "code",
   "execution_count": 14,
   "metadata": {},
   "outputs": [],
   "source": [
    "row_test = []\n",
    "col_test = []\n",
    "data_test = []\n",
    "\n",
    "for doc in docs_analysed:\n",
    "    for term in docs_analysed[doc]:\n",
    "        if doc in test_doc_id_mapping:\n",
    "            \n",
    "            row_test.append(test_doc_id_mapping[doc])\n",
    "            col_test.append(term)\n",
    "            data_test.append(docs_analysed[doc][term])\n",
    "            "
   ]
  },
  {
   "cell_type": "code",
   "execution_count": 15,
   "metadata": {},
   "outputs": [],
   "source": [
    "sparse_mat_test = sparse.csr_matrix((data_test, (row_test, col_test)), shape=(len(test_doc_id_mapping), len(features)))"
   ]
  },
  {
   "cell_type": "code",
   "execution_count": 16,
   "metadata": {},
   "outputs": [
    {
     "data": {
      "text/plain": [
       "<60336x83 sparse matrix of type '<class 'numpy.int64'>'\n",
       "\twith 176609 stored elements in Compressed Sparse Row format>"
      ]
     },
     "execution_count": 16,
     "metadata": {},
     "output_type": "execute_result"
    }
   ],
   "source": [
    "sparse_mat_train"
   ]
  },
  {
   "cell_type": "code",
   "execution_count": 17,
   "metadata": {},
   "outputs": [
    {
     "data": {
      "text/plain": [
       "<15083x83 sparse matrix of type '<class 'numpy.int64'>'\n",
       "\twith 44267 stored elements in Compressed Sparse Row format>"
      ]
     },
     "execution_count": 17,
     "metadata": {},
     "output_type": "execute_result"
    }
   ],
   "source": [
    "sparse_mat_test"
   ]
  },
  {
   "cell_type": "code",
   "execution_count": 20,
   "metadata": {},
   "outputs": [
    {
     "data": {
      "text/plain": [
       "DecisionTreeClassifier(class_weight=None, criterion='gini', max_depth=None,\n",
       "            max_features=None, max_leaf_nodes=None,\n",
       "            min_impurity_decrease=0.0, min_impurity_split=None,\n",
       "            min_samples_leaf=1, min_samples_split=2,\n",
       "            min_weight_fraction_leaf=0.0, presort=False, random_state=None,\n",
       "            splitter='best')"
      ]
     },
     "execution_count": 20,
     "metadata": {},
     "output_type": "execute_result"
    }
   ],
   "source": [
    "clf = tree.DecisionTreeClassifier()\n",
    "clf.fit(sparse_mat_train, train_is_spam)"
   ]
  },
  {
   "cell_type": "code",
   "execution_count": 21,
   "metadata": {},
   "outputs": [
    {
     "name": "stdout",
     "output_type": "stream",
     "text": [
      "0.8729839565102095\n"
     ]
    }
   ],
   "source": [
    "print(accuracy_score(clf.predict(sparse_mat_train), train_is_spam))"
   ]
  },
  {
   "cell_type": "code",
   "execution_count": 22,
   "metadata": {},
   "outputs": [],
   "source": [
    "test_pred = clf.predict(sparse_mat_test)"
   ]
  },
  {
   "cell_type": "code",
   "execution_count": 24,
   "metadata": {},
   "outputs": [
    {
     "name": "stdout",
     "output_type": "stream",
     "text": [
      "0.8579407279718889\n"
     ]
    }
   ],
   "source": [
    "print(accuracy_score(test_pred, test_is_spam))"
   ]
  },
  {
   "cell_type": "code",
   "execution_count": 25,
   "metadata": {},
   "outputs": [
    {
     "name": "stdout",
     "output_type": "stream",
     "text": [
      "1 \t inmail.24099 \t spam: True\n",
      "2 \t inmail.30207 \t spam: True\n",
      "3 \t inmail.68983 \t spam: True\n",
      "4 \t inmail.3238 \t spam: True\n",
      "5 \t inmail.15578 \t spam: True\n",
      "6 \t inmail.6376 \t spam: True\n",
      "7 \t inmail.20547 \t spam: True\n",
      "8 \t inmail.37180 \t spam: True\n",
      "9 \t inmail.44859 \t spam: True\n",
      "10 \t inmail.10497 \t spam: True\n",
      "11 \t inmail.67188 \t spam: True\n",
      "12 \t inmail.29251 \t spam: True\n",
      "13 \t inmail.44160 \t spam: True\n",
      "14 \t inmail.58770 \t spam: True\n",
      "15 \t inmail.34590 \t spam: True\n",
      "16 \t inmail.32091 \t spam: True\n",
      "17 \t inmail.52259 \t spam: False\n",
      "18 \t inmail.56162 \t spam: True\n",
      "19 \t inmail.36417 \t spam: True\n",
      "20 \t inmail.37365 \t spam: True\n",
      "21 \t inmail.66790 \t spam: True\n",
      "22 \t inmail.74352 \t spam: False\n",
      "23 \t inmail.43446 \t spam: True\n",
      "24 \t inmail.11181 \t spam: True\n",
      "25 \t inmail.12286 \t spam: True\n",
      "26 \t inmail.744 \t spam: True\n",
      "27 \t inmail.44122 \t spam: True\n",
      "28 \t inmail.5911 \t spam: True\n",
      "29 \t inmail.71044 \t spam: True\n",
      "30 \t inmail.354 \t spam: True\n",
      "31 \t inmail.34659 \t spam: True\n",
      "32 \t inmail.45153 \t spam: True\n",
      "33 \t inmail.1411 \t spam: True\n",
      "34 \t inmail.7117 \t spam: True\n",
      "35 \t inmail.24259 \t spam: True\n",
      "36 \t inmail.72372 \t spam: True\n",
      "37 \t inmail.73556 \t spam: False\n",
      "38 \t inmail.27012 \t spam: True\n",
      "39 \t inmail.57957 \t spam: True\n",
      "40 \t inmail.14910 \t spam: True\n",
      "41 \t inmail.10846 \t spam: True\n",
      "42 \t inmail.25004 \t spam: True\n",
      "43 \t inmail.64519 \t spam: True\n",
      "44 \t inmail.75195 \t spam: True\n",
      "45 \t inmail.47958 \t spam: True\n",
      "46 \t inmail.49600 \t spam: True\n",
      "47 \t inmail.35080 \t spam: False\n",
      "48 \t inmail.19456 \t spam: True\n",
      "49 \t inmail.23889 \t spam: True\n",
      "50 \t inmail.43578 \t spam: True\n"
     ]
    }
   ],
   "source": [
    "body_doc = {\n",
    "  \"query\" :{\n",
    "    \"match\": {\n",
    "      \"name\": \"\"\n",
    "    }\n",
    "  } \n",
    "}\n",
    "\n",
    "c = 1\n",
    "for i in np.argsort(test_pred)[::-1][0:50]:\n",
    "    \n",
    "    body_doc[\"query\"][\"match\"][\"name\"] = \"trec07p/data/\" + test_id_doc_mapping[i]\n",
    "    hits = es.search(index=\"spam_ham\", body=body_doc)\n",
    "    print(c,\"\\t\", test_id_doc_mapping[i], \"\\t\",\"spam:\",hits[\"hits\"][\"hits\"][0][\"_source\"][\"spam\"])\n",
    "    c = c + 1"
   ]
  }
 ],
 "metadata": {
  "kernelspec": {
   "display_name": "Python 3",
   "language": "python",
   "name": "python3"
  },
  "language_info": {
   "codemirror_mode": {
    "name": "ipython",
    "version": 3
   },
   "file_extension": ".py",
   "mimetype": "text/x-python",
   "name": "python",
   "nbconvert_exporter": "python",
   "pygments_lexer": "ipython3",
   "version": "3.5.2"
  }
 },
 "nbformat": 4,
 "nbformat_minor": 2
}
