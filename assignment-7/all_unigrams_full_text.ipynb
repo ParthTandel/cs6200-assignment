{
 "cells": [
  {
   "cell_type": "code",
   "execution_count": 1,
   "metadata": {},
   "outputs": [],
   "source": [
    "import elasticsearch\n",
    "from elasticsearch_dsl import Search\n",
    "import scipy.sparse as sparse\n",
    "from sklearn import linear_model\n",
    "from sklearn.metrics import accuracy_score\n",
    "import scipy\n",
    "import numpy as np"
   ]
  },
  {
   "cell_type": "code",
   "execution_count": 2,
   "metadata": {},
   "outputs": [],
   "source": [
    "es = elasticsearch.Elasticsearch()"
   ]
  },
  {
   "cell_type": "code",
   "execution_count": 3,
   "metadata": {},
   "outputs": [],
   "source": [
    "results = elasticsearch.helpers.scan(es,\n",
    "    index=\"spam_ham_2\",\n",
    "    doc_type=\"doc\",\n",
    "    preserve_order=True,\n",
    "    query={\"query\": {\"match_all\": {}}},\n",
    ")\n",
    "\n",
    "index = 0\n",
    "test_index = 0\n",
    "\n",
    "train_doc_id_mapping = {}\n",
    "train_id_doc_mapping = {}\n",
    "train_is_spam = []\n",
    "\n",
    "\n",
    "test_doc_id_mapping = {}\n",
    "test_id_doc_mapping = {}\n",
    "test_is_spam = []\n",
    "\n",
    "\n",
    "for item in results:\n",
    "    \n",
    "    if item['_source']['train'] == \"True\":    \n",
    "        train_doc_id_mapping[item['_id']] = index\n",
    "        train_id_doc_mapping[index] = item['_id']\n",
    "        is_spam = 0\n",
    "\n",
    "        if item['_source']['spam'] == \"True\":\n",
    "            is_spam = 1\n",
    "            \n",
    "        train_is_spam.append(is_spam)\n",
    "        index = index + 1\n",
    "        \n",
    "    else:\n",
    "        \n",
    "           \n",
    "        test_doc_id_mapping[item['_id']] = test_index\n",
    "        test_id_doc_mapping[test_index] = item['_id']\n",
    "        is_spam = 0\n",
    "\n",
    "        if item['_source']['spam'] == \"True\":\n",
    "            is_spam = 1\n",
    "            \n",
    "        test_is_spam.append(is_spam)\n",
    "        test_index = test_index + 1\n",
    "        "
   ]
  },
  {
   "cell_type": "code",
   "execution_count": 4,
   "metadata": {},
   "outputs": [],
   "source": [
    "vocab = {}\n",
    "reverse_vocab = {}\n",
    "vocab_index = 0"
   ]
  },
  {
   "cell_type": "code",
   "execution_count": 5,
   "metadata": {},
   "outputs": [],
   "source": [
    "data = []\n",
    "column = []\n",
    "row = []"
   ]
  },
  {
   "cell_type": "code",
   "execution_count": 6,
   "metadata": {},
   "outputs": [],
   "source": [
    "for doc in train_doc_id_mapping:\n",
    "    \n",
    "    term_vects = es.termvectors(index = 'spam_ham_2', \n",
    "       doc_type = 'doc', \n",
    "       id = doc, \n",
    "       fields = [\"text\"], \n",
    "       payloads=False, \n",
    "       positions=False,\n",
    "       offsets=False,\n",
    "       term_statistics=True,\n",
    "       field_statistics=True)\n",
    "    \n",
    "    if 'text' in term_vects['term_vectors'].keys():\n",
    "        for term in term_vects['term_vectors']['text']['terms']:\n",
    "\n",
    "            if term.lower() not in vocab:\n",
    "                vocab[term.lower()] = vocab_index\n",
    "                vocab_index = vocab_index + 1\n",
    "\n",
    "\n",
    "            tf = term_vects['term_vectors']['text']['terms'][term][\"term_freq\"]\n",
    "\n",
    "            row.append(train_doc_id_mapping[doc])\n",
    "            column.append(vocab[term.lower()])\n",
    "            data.append(tf)"
   ]
  },
  {
   "cell_type": "code",
   "execution_count": 7,
   "metadata": {},
   "outputs": [
    {
     "data": {
      "text/plain": [
       "9958074"
      ]
     },
     "execution_count": 7,
     "metadata": {},
     "output_type": "execute_result"
    }
   ],
   "source": [
    "vocab_index"
   ]
  },
  {
   "cell_type": "code",
   "execution_count": 8,
   "metadata": {},
   "outputs": [],
   "source": [
    "sparse_mat_train = sparse.csr_matrix((data, (row, column)), shape=(len(train_doc_id_mapping), vocab_index))"
   ]
  },
  {
   "cell_type": "code",
   "execution_count": 9,
   "metadata": {},
   "outputs": [],
   "source": [
    "scipy.sparse.save_npz('sparse_mat_train_ft.npz', sparse_mat_train)"
   ]
  },
  {
   "cell_type": "code",
   "execution_count": 10,
   "metadata": {},
   "outputs": [],
   "source": [
    "np.save('train_label_ft.npy', np.array(train_is_spam)) "
   ]
  },
  {
   "cell_type": "code",
   "execution_count": 11,
   "metadata": {},
   "outputs": [],
   "source": [
    "regr = linear_model.LogisticRegression()"
   ]
  },
  {
   "cell_type": "code",
   "execution_count": 12,
   "metadata": {},
   "outputs": [
    {
     "data": {
      "text/plain": [
       "LogisticRegression(C=1.0, class_weight=None, dual=False, fit_intercept=True,\n",
       "          intercept_scaling=1, max_iter=100, multi_class='ovr', n_jobs=1,\n",
       "          penalty='l2', random_state=None, solver='liblinear', tol=0.0001,\n",
       "          verbose=0, warm_start=False)"
      ]
     },
     "execution_count": 12,
     "metadata": {},
     "output_type": "execute_result"
    }
   ],
   "source": [
    "regr.fit(sparse_mat_train, train_is_spam)"
   ]
  },
  {
   "cell_type": "code",
   "execution_count": 13,
   "metadata": {},
   "outputs": [],
   "source": [
    "pred = regr.predict(sparse_mat_train)"
   ]
  },
  {
   "cell_type": "code",
   "execution_count": 14,
   "metadata": {},
   "outputs": [
    {
     "name": "stdout",
     "output_type": "stream",
     "text": [
      "0.999817687616017\n"
     ]
    }
   ],
   "source": [
    "print(accuracy_score(pred, train_is_spam))"
   ]
  },
  {
   "cell_type": "code",
   "execution_count": 15,
   "metadata": {},
   "outputs": [],
   "source": [
    "data = []\n",
    "column = []\n",
    "row = []\n",
    "\n",
    "for doc in test_doc_id_mapping:\n",
    "    \n",
    "    term_vects = es.termvectors(index = 'spam_ham_2', \n",
    "       doc_type = 'doc', \n",
    "       id = doc, \n",
    "       fields = [\"text\"], \n",
    "       payloads=False, \n",
    "       positions=False,\n",
    "       offsets=False,\n",
    "       term_statistics=True,\n",
    "       field_statistics=True)\n",
    "    \n",
    "    if 'text' in term_vects['term_vectors'].keys():\n",
    "        for term in term_vects['term_vectors']['text']['terms']:\n",
    "\n",
    "            if term.lower() in vocab:\n",
    "\n",
    "                tf = term_vects['term_vectors']['text']['terms'][term][\"term_freq\"]\n",
    "\n",
    "                row.append(test_doc_id_mapping[doc])\n",
    "                column.append(vocab[term.lower()])\n",
    "                data.append(tf)"
   ]
  },
  {
   "cell_type": "code",
   "execution_count": 16,
   "metadata": {},
   "outputs": [
    {
     "data": {
      "text/plain": [
       "10869140"
      ]
     },
     "execution_count": 16,
     "metadata": {},
     "output_type": "execute_result"
    }
   ],
   "source": [
    "len(data)"
   ]
  },
  {
   "cell_type": "code",
   "execution_count": 17,
   "metadata": {},
   "outputs": [],
   "source": [
    "sparse_mat_test = sparse.csr_matrix((data, (row, column)), shape=(len(test_doc_id_mapping), vocab_index))"
   ]
  },
  {
   "cell_type": "code",
   "execution_count": 18,
   "metadata": {},
   "outputs": [],
   "source": [
    "scipy.sparse.save_npz('sparse_mat_test_ft.npz', sparse_mat_test)"
   ]
  },
  {
   "cell_type": "code",
   "execution_count": 19,
   "metadata": {},
   "outputs": [],
   "source": [
    "np.save('test_label_ft.npy', np.array(test_is_spam)) "
   ]
  },
  {
   "cell_type": "code",
   "execution_count": 20,
   "metadata": {},
   "outputs": [],
   "source": [
    "test_pred = regr.predict(sparse_mat_test)"
   ]
  },
  {
   "cell_type": "code",
   "execution_count": 21,
   "metadata": {},
   "outputs": [
    {
     "name": "stdout",
     "output_type": "stream",
     "text": [
      "0.9989392030763111\n"
     ]
    }
   ],
   "source": [
    "print(accuracy_score(test_pred, test_is_spam))"
   ]
  },
  {
   "cell_type": "code",
   "execution_count": 22,
   "metadata": {},
   "outputs": [],
   "source": [
    "# sparse_matrixaklfnlwkfnl = scipy.sparse.load_npz('sparse_mat_test.npz')"
   ]
  },
  {
   "cell_type": "code",
   "execution_count": 24,
   "metadata": {
    "scrolled": false
   },
   "outputs": [
    {
     "name": "stdout",
     "output_type": "stream",
     "text": [
      "1 \t inmail.68729 \t spam: True\n",
      "2 \t inmail.40528 \t spam: True\n",
      "3 \t inmail.21810 \t spam: True\n",
      "4 \t inmail.31109 \t spam: True\n",
      "5 \t inmail.9142 \t spam: True\n",
      "6 \t inmail.2939 \t spam: True\n",
      "7 \t inmail.6366 \t spam: True\n",
      "8 \t inmail.35246 \t spam: True\n",
      "9 \t inmail.34605 \t spam: True\n",
      "10 \t inmail.66122 \t spam: True\n",
      "11 \t inmail.41450 \t spam: True\n",
      "12 \t inmail.51 \t spam: True\n",
      "13 \t inmail.66046 \t spam: True\n",
      "14 \t inmail.9744 \t spam: True\n",
      "15 \t inmail.72770 \t spam: True\n",
      "16 \t inmail.63900 \t spam: True\n",
      "17 \t inmail.41721 \t spam: True\n",
      "18 \t inmail.6896 \t spam: True\n",
      "19 \t inmail.39692 \t spam: True\n",
      "20 \t inmail.62180 \t spam: True\n",
      "21 \t inmail.48899 \t spam: True\n",
      "22 \t inmail.29295 \t spam: True\n",
      "23 \t inmail.49034 \t spam: True\n",
      "24 \t inmail.43318 \t spam: True\n",
      "25 \t inmail.68175 \t spam: True\n",
      "26 \t inmail.6675 \t spam: True\n",
      "27 \t inmail.7709 \t spam: True\n",
      "28 \t inmail.62356 \t spam: True\n",
      "29 \t inmail.50292 \t spam: True\n",
      "30 \t inmail.38600 \t spam: True\n",
      "31 \t inmail.67126 \t spam: True\n",
      "32 \t inmail.646 \t spam: True\n",
      "33 \t inmail.49138 \t spam: True\n",
      "34 \t inmail.5454 \t spam: True\n",
      "35 \t inmail.16768 \t spam: True\n",
      "36 \t inmail.70381 \t spam: True\n",
      "37 \t inmail.21276 \t spam: True\n",
      "38 \t inmail.28759 \t spam: True\n",
      "39 \t inmail.23374 \t spam: True\n",
      "40 \t inmail.60167 \t spam: True\n",
      "41 \t inmail.34529 \t spam: True\n",
      "42 \t inmail.59587 \t spam: True\n",
      "43 \t inmail.21920 \t spam: True\n",
      "44 \t inmail.69680 \t spam: True\n",
      "45 \t inmail.14984 \t spam: True\n",
      "46 \t inmail.21700 \t spam: True\n",
      "47 \t inmail.66715 \t spam: True\n",
      "48 \t inmail.58551 \t spam: True\n",
      "49 \t inmail.2888 \t spam: True\n",
      "50 \t inmail.53004 \t spam: True\n"
     ]
    }
   ],
   "source": [
    "body_doc = {\n",
    "  \"query\" :{\n",
    "    \"match\": {\n",
    "      \"name\": \"\"\n",
    "    }\n",
    "  } \n",
    "}\n",
    "\n",
    "c = 1\n",
    "for i in np.argsort(test_pred)[::-1][0:50]:\n",
    "    \n",
    "    body_doc[\"query\"][\"match\"][\"name\"] = test_id_doc_mapping[i]\n",
    "    hits = es.search(index=\"spam_ham_2\", body=body_doc)\n",
    "    print(c,\"\\t\", test_id_doc_mapping[i], \"\\t\",\"spam:\",hits[\"hits\"][\"hits\"][0][\"_source\"][\"spam\"])\n",
    "    c = c + 1"
   ]
  }
 ],
 "metadata": {
  "kernelspec": {
   "display_name": "Python 3",
   "language": "python",
   "name": "python3"
  },
  "language_info": {
   "codemirror_mode": {
    "name": "ipython",
    "version": 3
   },
   "file_extension": ".py",
   "mimetype": "text/x-python",
   "name": "python",
   "nbconvert_exporter": "python",
   "pygments_lexer": "ipython3",
   "version": "3.5.2"
  }
 },
 "nbformat": 4,
 "nbformat_minor": 2
}
