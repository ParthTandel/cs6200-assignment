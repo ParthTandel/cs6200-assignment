{
 "cells": [
  {
   "cell_type": "code",
   "execution_count": 38,
   "metadata": {},
   "outputs": [],
   "source": [
    "import elasticsearch\n",
    "from elasticsearch_dsl import Search\n",
    "import scipy.sparse as sparse\n",
    "from sklearn import tree\n",
    "import numpy as np"
   ]
  },
  {
   "cell_type": "code",
   "execution_count": 2,
   "metadata": {},
   "outputs": [],
   "source": [
    "from sklearn import linear_model\n",
    "from sklearn.metrics import accuracy_score\n"
   ]
  },
  {
   "cell_type": "code",
   "execution_count": 3,
   "metadata": {},
   "outputs": [],
   "source": [
    "es = elasticsearch.Elasticsearch()"
   ]
  },
  {
   "cell_type": "code",
   "execution_count": 4,
   "metadata": {},
   "outputs": [],
   "source": [
    "results = elasticsearch.helpers.scan(es,\n",
    "    index=\"spam_ham\",\n",
    "    doc_type=\"doc\",\n",
    "    preserve_order=True,\n",
    "    query={\"query\": {\"match_all\": {}}},\n",
    ")\n",
    "\n",
    "index = 0\n",
    "test_index = 0\n",
    "\n",
    "train_doc_id_mapping = {}\n",
    "train_id_doc_mapping = {}\n",
    "train_is_spam = []\n",
    "\n",
    "\n",
    "test_doc_id_mapping = {}\n",
    "test_id_doc_mapping = {}\n",
    "test_is_spam = []\n",
    "\n",
    "\n",
    "for item in results:\n",
    "    \n",
    "    if item['_source']['train'] == \"True\":    \n",
    "        train_doc_id_mapping[item['_id']] = index\n",
    "        train_id_doc_mapping[index] = item['_id']\n",
    "        is_spam = 0\n",
    "\n",
    "        if item['_source']['spam'] == \"True\":\n",
    "            is_spam = 1\n",
    "            \n",
    "        train_is_spam.append(is_spam)\n",
    "        index = index + 1\n",
    "        \n",
    "    else:\n",
    "        \n",
    "           \n",
    "        test_doc_id_mapping[item['_id']] = test_index\n",
    "        test_id_doc_mapping[test_index] = item['_id']\n",
    "        is_spam = 0\n",
    "\n",
    "        if item['_source']['spam'] == \"True\":\n",
    "            is_spam = 1\n",
    "            \n",
    "        test_is_spam.append(is_spam)\n",
    "        test_index = test_index + 1\n",
    "        "
   ]
  },
  {
   "cell_type": "code",
   "execution_count": 5,
   "metadata": {},
   "outputs": [
    {
     "data": {
      "text/plain": [
       "(60336, 15083, 60336, 15083)"
      ]
     },
     "execution_count": 5,
     "metadata": {},
     "output_type": "execute_result"
    }
   ],
   "source": [
    "len(train_doc_id_mapping),len(test_doc_id_mapping), len(train_is_spam), len(test_is_spam)"
   ]
  },
  {
   "cell_type": "code",
   "execution_count": 6,
   "metadata": {},
   "outputs": [],
   "source": [
    "with open(\"feature_words\") as file:\n",
    "    features = file.read().split(\"\\n\")[:-1]"
   ]
  },
  {
   "cell_type": "code",
   "execution_count": 7,
   "metadata": {},
   "outputs": [],
   "source": [
    "feature_id_mapping = {}\n",
    "id_feature_mapping = {}\n",
    "index = 0\n",
    "\n",
    "for word in features:\n",
    "    feature_id_mapping[word.lower()] = index\n",
    "    id_feature_mapping[index] = word.lower()\n",
    "    index = index + 1\n",
    "    "
   ]
  },
  {
   "cell_type": "code",
   "execution_count": 8,
   "metadata": {},
   "outputs": [
    {
     "name": "stdout",
     "output_type": "stream",
     "text": [
      "authentic dollar discount\n",
      "lower interest\n",
      "fast delivery\n",
      "porn\n",
      "fast delivery guaranty\n",
      "use a credit card\n",
      "click to play\n",
      "visit our website\n",
      "click me\n",
      "click here\n",
      "last 10 minute\n",
      "affordable fast price\n",
      "mass gain\n",
      "tinder\n",
      "will make you\n",
      "fast cash\n",
      "remove ads\n",
      "shocked to see\n",
      "twitter reacts to\n",
      "could possibly even happen\n",
      "last 10 minutes\n",
      "dollar discount\n",
      "get for\n",
      "shock to see\n",
      "lose weight\n",
      "weight loss\n",
      "clearance sale\n",
      "do not miss it\n",
      "discount\n",
      "blew my mind\n",
      "free\n",
      "dont miss it\n",
      "free fast cash\n",
      "ads\n",
      "twitter react to\n",
      "win extra cash\n",
      "blew your mind\n",
      "free bottle\n",
      "this is why\n",
      "see more\n"
     ]
    }
   ],
   "source": [
    "docs_analysed = {}\n",
    "body_doc = {\n",
    "    \"query\": {    \n",
    "        \"match_phrase\" : {\n",
    "            \"text\" : \"\"\n",
    "            }\n",
    "        },\n",
    "    \"from\" : 0,\n",
    "    \"size\" : 1000\n",
    "}\n",
    "\n",
    "for i in feature_id_mapping:\n",
    "    print(i)\n",
    "    body_doc[\"query\"][\"match_phrase\"][\"text\"] = i\n",
    "    total_res = []\n",
    "    hits = es.search(index=\"spam_ham\", body=body_doc)\n",
    "    total_res = total_res + hits['hits']['hits']\n",
    "    \n",
    "    while len(total_res) < hits['hits']['total']:\n",
    "        body_doc[\"from\"] = len(total_res)\n",
    "        hits = es.search(index=\"spam_ham\", body=body_doc, size=1000)\n",
    "        total_res = total_res + hits['hits']['hits']\n",
    "    \n",
    "    if len(total_res) == 0:\n",
    "        continue\n",
    "    else:\n",
    "        for doc in total_res:\n",
    "            if doc[\"_id\"] in docs_analysed:\n",
    "                continue\n",
    "            docs_analysed[doc[\"_id\"]] = {}\n",
    "            term_vects = es.termvectors(index = 'spam_ham', \n",
    "               doc_type = 'doc', \n",
    "               id = doc[\"_id\"], \n",
    "               fields = [\"text\"], \n",
    "               payloads=False, \n",
    "               positions=False,\n",
    "               offsets=False,\n",
    "               term_statistics=True,\n",
    "               field_statistics=True)\n",
    "            \n",
    "            for word in features:\n",
    "                if(word.lower() in term_vects['term_vectors']['text']['terms']):\n",
    "                    tf = term_vects['term_vectors']['text']['terms'][word][\"term_freq\"]\n",
    "                    docs_analysed[doc[\"_id\"]][feature_id_mapping[word.lower()]] = tf"
   ]
  },
  {
   "cell_type": "code",
   "execution_count": 9,
   "metadata": {},
   "outputs": [],
   "source": [
    "row = []\n",
    "col = []\n",
    "data = []\n",
    "# label_train = []\n",
    "\n",
    "\n",
    "row_test = []\n",
    "col_test = []\n",
    "data_test = []\n",
    "# label_test = []\n",
    "\n",
    "for doc in docs_analysed:\n",
    "    for term in docs_analysed[doc]:\n",
    "        if doc in train_doc_id_mapping:\n",
    "            \n",
    "            row.append(train_doc_id_mapping[doc])\n",
    "            col.append(term)\n",
    "            data.append(docs_analysed[doc][term])\n",
    "\n",
    "        else:\n",
    "            row_test.append(test_doc_id_mapping[doc])\n",
    "            col_test.append(term)\n",
    "            data_test.append(docs_analysed[doc][term])\n",
    "            "
   ]
  },
  {
   "cell_type": "code",
   "execution_count": 10,
   "metadata": {},
   "outputs": [],
   "source": [
    "sparse_mat_train = sparse.csr_matrix((data, (row, col)), shape=(len(train_doc_id_mapping), len(features)))"
   ]
  },
  {
   "cell_type": "code",
   "execution_count": 11,
   "metadata": {},
   "outputs": [],
   "source": [
    "sparse_mat_test = sparse.csr_matrix((data_test, (row_test, col_test)), shape=(len(test_doc_id_mapping), len(features)))"
   ]
  },
  {
   "cell_type": "code",
   "execution_count": 12,
   "metadata": {},
   "outputs": [
    {
     "data": {
      "text/plain": [
       "<60336x40 sparse matrix of type '<class 'numpy.int64'>'\n",
       "\twith 15388 stored elements in Compressed Sparse Row format>"
      ]
     },
     "execution_count": 12,
     "metadata": {},
     "output_type": "execute_result"
    }
   ],
   "source": [
    "sparse_mat_train"
   ]
  },
  {
   "cell_type": "code",
   "execution_count": 13,
   "metadata": {},
   "outputs": [
    {
     "data": {
      "text/plain": [
       "<15083x40 sparse matrix of type '<class 'numpy.int64'>'\n",
       "\twith 3846 stored elements in Compressed Sparse Row format>"
      ]
     },
     "execution_count": 13,
     "metadata": {},
     "output_type": "execute_result"
    }
   ],
   "source": [
    "sparse_mat_test"
   ]
  },
  {
   "cell_type": "code",
   "execution_count": 31,
   "metadata": {},
   "outputs": [
    {
     "data": {
      "text/plain": [
       "DecisionTreeClassifier(class_weight=None, criterion='gini', max_depth=None,\n",
       "            max_features=None, max_leaf_nodes=None,\n",
       "            min_impurity_decrease=0.0, min_impurity_split=None,\n",
       "            min_samples_leaf=1, min_samples_split=2,\n",
       "            min_weight_fraction_leaf=0.0, presort=False, random_state=None,\n",
       "            splitter='best')"
      ]
     },
     "execution_count": 31,
     "metadata": {},
     "output_type": "execute_result"
    }
   ],
   "source": [
    "clf = tree.DecisionTreeClassifier()\n",
    "clf.fit(sparse_mat_train, train_is_spam)"
   ]
  },
  {
   "cell_type": "code",
   "execution_count": 32,
   "metadata": {},
   "outputs": [],
   "source": [
    "pred = clf.predict(sparse_mat_train)"
   ]
  },
  {
   "cell_type": "code",
   "execution_count": 33,
   "metadata": {},
   "outputs": [
    {
     "name": "stdout",
     "output_type": "stream",
     "text": [
      "0.6880635110050385\n"
     ]
    }
   ],
   "source": [
    "print(accuracy_score(pred, train_is_spam))"
   ]
  },
  {
   "cell_type": "code",
   "execution_count": 35,
   "metadata": {},
   "outputs": [],
   "source": [
    "test_pred = clf.predict(sparse_mat_test)"
   ]
  },
  {
   "cell_type": "code",
   "execution_count": 36,
   "metadata": {},
   "outputs": [
    {
     "name": "stdout",
     "output_type": "stream",
     "text": [
      "0.6913743950142545\n"
     ]
    }
   ],
   "source": [
    "print(accuracy_score(test_pred, test_is_spam))"
   ]
  },
  {
   "cell_type": "code",
   "execution_count": 39,
   "metadata": {},
   "outputs": [
    {
     "name": "stdout",
     "output_type": "stream",
     "text": [
      "1 \t inmail.24099 \t spam: True\n",
      "2 \t inmail.61605 \t spam: False\n",
      "3 \t inmail.59977 \t spam: True\n",
      "4 \t inmail.15954 \t spam: True\n",
      "5 \t inmail.70841 \t spam: True\n",
      "6 \t inmail.16037 \t spam: True\n",
      "7 \t inmail.10816 \t spam: True\n",
      "8 \t inmail.32611 \t spam: True\n",
      "9 \t inmail.31870 \t spam: True\n",
      "10 \t inmail.74372 \t spam: True\n",
      "11 \t inmail.39003 \t spam: True\n",
      "12 \t inmail.13073 \t spam: False\n",
      "13 \t inmail.36632 \t spam: True\n",
      "14 \t inmail.6901 \t spam: True\n",
      "15 \t inmail.41744 \t spam: False\n",
      "16 \t inmail.36447 \t spam: False\n",
      "17 \t inmail.62037 \t spam: False\n",
      "18 \t inmail.21792 \t spam: True\n",
      "19 \t inmail.2912 \t spam: True\n",
      "20 \t inmail.33655 \t spam: False\n",
      "21 \t inmail.30505 \t spam: True\n",
      "22 \t inmail.40775 \t spam: False\n",
      "23 \t inmail.11921 \t spam: True\n",
      "24 \t inmail.34322 \t spam: False\n",
      "25 \t inmail.42998 \t spam: False\n",
      "26 \t inmail.71544 \t spam: True\n",
      "27 \t inmail.67739 \t spam: False\n",
      "28 \t inmail.60546 \t spam: False\n",
      "29 \t inmail.73291 \t spam: True\n",
      "30 \t inmail.23132 \t spam: True\n",
      "31 \t inmail.42418 \t spam: False\n",
      "32 \t inmail.6081 \t spam: True\n",
      "33 \t inmail.40671 \t spam: False\n",
      "34 \t inmail.60276 \t spam: True\n",
      "35 \t inmail.16242 \t spam: True\n",
      "36 \t inmail.59117 \t spam: False\n",
      "37 \t inmail.3971 \t spam: True\n",
      "38 \t inmail.9964 \t spam: True\n",
      "39 \t inmail.49650 \t spam: True\n",
      "40 \t inmail.29096 \t spam: False\n",
      "41 \t inmail.25092 \t spam: True\n",
      "42 \t inmail.5021 \t spam: True\n",
      "43 \t inmail.71489 \t spam: True\n",
      "44 \t inmail.20778 \t spam: False\n",
      "45 \t inmail.30847 \t spam: True\n",
      "46 \t inmail.3296 \t spam: True\n",
      "47 \t inmail.36776 \t spam: True\n",
      "48 \t inmail.41298 \t spam: True\n",
      "49 \t inmail.27797 \t spam: True\n",
      "50 \t inmail.22257 \t spam: False\n"
     ]
    }
   ],
   "source": [
    "body_doc = {\n",
    "  \"query\" :{\n",
    "    \"match\": {\n",
    "      \"name\": \"\"\n",
    "    }\n",
    "  } \n",
    "}\n",
    "\n",
    "c = 1\n",
    "for i in np.argsort(test_pred)[::-1][0:50]:\n",
    "    \n",
    "    body_doc[\"query\"][\"match\"][\"name\"] = \"trec07p/data/\" + test_id_doc_mapping[i]\n",
    "    hits = es.search(index=\"spam_ham\", body=body_doc)\n",
    "    print(c,\"\\t\", test_id_doc_mapping[i], \"\\t\",\"spam:\",hits[\"hits\"][\"hits\"][0][\"_source\"][\"spam\"])\n",
    "    c = c + 1"
   ]
  }
 ],
 "metadata": {
  "kernelspec": {
   "display_name": "Python 3",
   "language": "python",
   "name": "python3"
  },
  "language_info": {
   "codemirror_mode": {
    "name": "ipython",
    "version": 3
   },
   "file_extension": ".py",
   "mimetype": "text/x-python",
   "name": "python",
   "nbconvert_exporter": "python",
   "pygments_lexer": "ipython3",
   "version": "3.5.2"
  }
 },
 "nbformat": 4,
 "nbformat_minor": 2
}
