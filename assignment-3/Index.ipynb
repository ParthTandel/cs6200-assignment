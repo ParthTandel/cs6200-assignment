{
 "cells": [
  {
   "cell_type": "code",
   "execution_count": 1,
   "metadata": {},
   "outputs": [],
   "source": [
    "from datetime import datetime\n",
    "from elasticsearch import Elasticsearch\n",
    "import glob\n",
    "import re\n",
    "import json\n",
    "import os.path\n",
    "from urllib.parse import urlparse\n"
   ]
  },
  {
   "cell_type": "code",
   "execution_count": 2,
   "metadata": {},
   "outputs": [],
   "source": [
    "inlinks_parth = {}"
   ]
  },
  {
   "cell_type": "code",
   "execution_count": 3,
   "metadata": {},
   "outputs": [],
   "source": [
    "with open(\"inlinks_parth.json\") as f:\n",
    "    inlinks_parth = json.load(f)"
   ]
  },
  {
   "cell_type": "code",
   "execution_count": 4,
   "metadata": {},
   "outputs": [],
   "source": [
    "inlinks_priya = {}"
   ]
  },
  {
   "cell_type": "code",
   "execution_count": 5,
   "metadata": {},
   "outputs": [],
   "source": [
    "with open(\"inlinks_priya.json\") as f:\n",
    "    inlinks_priya = json.lohwad(f)"
   ]
  },
  {
   "cell_type": "code",
   "execution_count": 6,
   "metadata": {},
   "outputs": [],
   "source": [
    "mapping = {\n",
    "    \"settings\" : {\n",
    "        \"index\": {\n",
    "          \"store\": {\n",
    "            \"type\": \"fs\"\n",
    "          },\n",
    "          \"number_of_shards\": 2,\n",
    "          \"number_of_replicas\": 1\n",
    "        },\n",
    "        \"analysis\": {\n",
    "          \"analyzer\": {\n",
    "            \"my_english\": { \n",
    "              \"type\": \"english\",\n",
    "              \"stopwords_path\": \"stoplist.txt\" \n",
    "            }\n",
    "          }\n",
    "        }\n",
    "    },\n",
    "    \"mappings\": {\n",
    "        \"doc\": { \n",
    "          \"properties\": { \n",
    "            \"DOCNO\": { \"type\" : \"text\"  }, \n",
    "            \"TITLE\": { \"type\" : \"text\"},\n",
    "            \"TEXT\": { \n",
    "                \"type\": \"text\",\n",
    "                \"store\": True,\n",
    "                \"fielddata\": True,\n",
    "                \"term_vector\": \"with_positions_offsets_payloads\",\n",
    "                \"analyzer\": \"my_english\"\n",
    "            }, \n",
    "            \"HTML\": { \"type\": \"text\"  },\n",
    "            \"INLINK\" : { \"type\": \"text\"  },\n",
    "            \"OUTLINK\": { \"type\": \"text\"  },\n",
    "            \"AUTHOR\": {\"type\" : \"text\"},\n",
    "#             \"DEPTH\" : {\"type\":\"integer\"}\n",
    "\n",
    "          }\n",
    "        }\n",
    "    }\n",
    "}"
   ]
  },
  {
   "cell_type": "code",
   "execution_count": 7,
   "metadata": {},
   "outputs": [],
   "source": [
    "es = Elasticsearch()\n",
    "es.indices.create('crawled_data_merged', body=mapping)"
   ]
  },
  {
   "cell_type": "code",
   "execution_count": 8,
   "metadata": {},
   "outputs": [],
   "source": [
    "id_scheme_removed = []"
   ]
  },
  {
   "cell_type": "code",
   "execution_count": 9,
   "metadata": {},
   "outputs": [],
   "source": [
    "pro_path = \"proc/\""
   ]
  },
  {
   "cell_type": "code",
   "execution_count": 10,
   "metadata": {},
   "outputs": [],
   "source": [
    "c = 0\n",
    "for i in range(1, 20001):\n",
    "    file_path = pro_path + str(i) + \".json\"\n",
    "    with open(file_path, \"r\") as f:\n",
    "        data = json.load(f)\n",
    "        \n",
    "        parsedUrl = urlparse(data[\"DOCNO\"].lower())\n",
    "    \n",
    "        json_d = {}\n",
    "\n",
    "#         if(parsedUrl.netloc + parsedUrl.path) in id_scheme_removed:\n",
    "#             json_d[\"TEXT\"] = \" \"\n",
    "#             print(parsedUrl.netloc + parsedUrl.path)\n",
    "#         if(parsedUrl.netloc + parsedUrl.path) not in id_scheme_removed:\n",
    "#             id_scheme_removed.append(parsedUrl.netloc + parsedUrl.path)\n",
    "#             json_d[\"TEXT\"] = data[\"TEXT\"]\n",
    "        \n",
    "\n",
    "        json_d[\"DOCNO\"] = data[\"DOCNO\"]\n",
    "        json_d[\"TEXT\"] = data[\"TEXT\"]\n",
    "#         json_d[\"HTML\"] = str(data[\"HTML\"])\n",
    "        json_d[\"HTML\"] = \"\"\n",
    "        json_d[\"INLINK\"] = []\n",
    "        \n",
    "        \n",
    "        \n",
    "        # \n",
    "    \n",
    "        if data['DOCNO'] in inlinks_parth:\n",
    "            json_d[\"INLINK\"] = json_d[\"INLINK\"] + inlinks_parth[data['DOCNO']]\n",
    "            \n",
    "        if data['DOCNO'] in inlinks_priya:\n",
    "            json_d[\"INLINK\"] = json_d[\"INLINK\"] + inlinks_priya[data['DOCNO']]\n",
    "            \n",
    "        json_d[\"INLINK\"] = list(set(json_d[\"INLINK\"]))\n",
    "\n",
    "        json_d[\"OUTLINK\"] = list(set(data[\"OUTLINK\"]))\n",
    "        json_d[\"AUTHOR\"] = [\"Parth\"]\n",
    "        json_d[\"TITLE\"] = data[\"TITLE\"]\n",
    "        \n",
    "        res = es.get(index = \"crawled_data_merged\", \n",
    "                     doc_type = \"doc\",\n",
    "                     id = json_d['DOCNO'],\n",
    "                     ignore = 404)\n",
    "                                                                     \n",
    "        if res[\"found\"] == True:\n",
    "#             if(res[\"_source\"][\"TEXT\"] == \" \"):\n",
    "#                 json_d[\"TEXT\"] = \" \"\n",
    "            \n",
    "            json_d[\"INLINK\"] = list(set( res[\"_source\"][\"INLINK\"] + json_d[\"INLINK\"]))\n",
    "            json_d[\"OUTLINK\"] = list(set( res[\"_source\"][\"OUTLINK\"] + json_d[\"OUTLINK\"]))\n",
    "            json_d[\"AUTHOR\"] =  list(set( res[\"_source\"][\"AUTHOR\"] + json_d[\"AUTHOR\"]))\n",
    "        \n",
    "            \n",
    "        res = es.index(index=\"crawled_data_merged\", doc_type='doc', id=json_d['DOCNO'], body=json_d)\n",
    "        \n"
   ]
  },
  {
   "cell_type": "code",
   "execution_count": 11,
   "metadata": {},
   "outputs": [],
   "source": [
    "# res = es.get(index=\"crawled_data_test\", doc_type='doc', id=123, ignore=404)"
   ]
  },
  {
   "cell_type": "code",
   "execution_count": 12,
   "metadata": {},
   "outputs": [],
   "source": [
    "# res"
   ]
  },
  {
   "cell_type": "code",
   "execution_count": 13,
   "metadata": {},
   "outputs": [],
   "source": [
    "# res['_source']['INLINK']"
   ]
  },
  {
   "cell_type": "code",
   "execution_count": 14,
   "metadata": {},
   "outputs": [],
   "source": [
    "# es = Elasticsearch()\n",
    "# es.indices.create('crawled_data_merged', body=mapping)"
   ]
  },
  {
   "cell_type": "code",
   "execution_count": 15,
   "metadata": {},
   "outputs": [],
   "source": [
    "# inlinks_parth = []"
   ]
  },
  {
   "cell_type": "code",
   "execution_count": 16,
   "metadata": {},
   "outputs": [],
   "source": [
    "# es = Elasticsearch()\n",
    "# es.indices.create('crawled_data_merged', body=mapping)"
   ]
  }
 ],
 "metadata": {
  "kernelspec": {
   "display_name": "Python 3",
   "language": "python",
   "name": "python3"
  },
  "language_info": {
   "codemirror_mode": {
    "name": "ipython",
    "version": 3
   },
   "file_extension": ".py",
   "mimetype": "text/x-python",
   "name": "python",
   "nbconvert_exporter": "python",
   "pygments_lexer": "ipython3",
   "version": "3.5.2"
  }
 },
 "nbformat": 4,
 "nbformat_minor": 2
}
